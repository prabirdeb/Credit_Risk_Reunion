{
  "cells": [
    {
      "cell_type": "markdown",
      "metadata": {
        "id": "view-in-github",
        "colab_type": "text"
      },
      "source": [
        "<a href=\"https://colab.research.google.com/github/prabirdeb/Credit_Risk_Reunion/blob/main/Credit_Risk_ML.ipynb\" target=\"_parent\"><img src=\"https://colab.research.google.com/assets/colab-badge.svg\" alt=\"Open In Colab\"/></a>"
      ]
    },
    {
      "cell_type": "markdown",
      "metadata": {
        "id": "oKKZnwRgt1V9"
      },
      "source": [
        "# **Credit Risk ML**\n",
        "\n",
        "I am provided with anonymized data on about 1000 loan applications, along with a certain set of attributes about the applicant itself, and whether they were considered high risk.\n",
        "\n",
        "0 = Low credit risk i.e high chance of paying back the loan amount\n",
        "\n",
        "1 = High credit risk i.e low chance of paying back the loan amount\n",
        "\n",
        "**TASK-2**\n",
        "\n",
        "**Develop the ML model(s) to predict the credit risk(low or high) for a given applicant.** \n",
        "\n",
        "**Business Constraint:** Note that it is worse to state an applicant as a low credit risk when they are actually a high risk, than it is to state an applicant to be a high credit risk when they aren’t."
      ]
    },
    {
      "cell_type": "markdown",
      "metadata": {
        "id": "xWvWiLmjuWOn"
      },
      "source": [
        "## **The performance of a machine learning model depends on 5 factors:**\n",
        "\n",
        "**i. Quality of Data**\n",
        "\n",
        "(cleaner experiences for better learning)\n",
        "\n",
        "**ii. Quantity of Data**\n",
        "\n",
        "(more experiences for better learning)\n",
        "\n",
        "**iii. Quality of Model**\n",
        "\n",
        "(right model and right hyperparameters for better learning)\n",
        "\n",
        "**iv. Quality of Training**\n",
        "\n",
        "(no underfitting or overfitting for better learning)\n",
        "\n",
        "**v. Quality of Testing**\n",
        "\n",
        "(error in prediction analysis for better learning)\n",
        "\n"
      ]
    },
    {
      "cell_type": "markdown",
      "metadata": {
        "id": "P1_aQ_OKeUIB"
      },
      "source": [
        "## **1. Connection with the Data**\n",
        "\n",
        "At first, we import the libraries or functions for **making our journey easy** and then **get connected** to the set of experiences."
      ]
    },
    {
      "cell_type": "code",
      "execution_count": 111,
      "metadata": {
        "colab": {
          "base_uri": "https://localhost:8080/"
        },
        "id": "ag_J2iydtniR",
        "outputId": "c79051ee-8ecd-4b13-f9e4-2d122c5ba14c"
      },
      "outputs": [
        {
          "output_type": "stream",
          "name": "stdout",
          "text": [
            "Using matplotlib backend: agg\n"
          ]
        }
      ],
      "source": [
        "# Importing libraries\n",
        "import numpy as np\n",
        "import pandas as pd\n",
        "from numpy import math\n",
        "\n",
        "import matplotlib.pyplot as plt\n",
        "import seaborn as sns\n",
        "%matplotlib\n",
        "\n",
        "from sklearn.preprocessing import StandardScaler\n",
        "from sklearn.model_selection import train_test_split\n",
        "from sklearn.ensemble import RandomForestClassifier\n",
        "from sklearn.model_selection import RandomizedSearchCV\n",
        "from sklearn.metrics import accuracy_score,roc_auc_score,confusion_matrix, roc_curve, classification_report\n",
        "from sklearn.neighbors import KNeighborsClassifier\n",
        "from sklearn.svm import SVC\n",
        "from sklearn.metrics import f1_score"
      ]
    },
    {
      "cell_type": "code",
      "execution_count": 2,
      "metadata": {
        "colab": {
          "base_uri": "https://localhost:8080/"
        },
        "id": "wcyl8GMQuOgU",
        "outputId": "fc392ce5-d727-4206-8134-f75c15331933"
      },
      "outputs": [
        {
          "output_type": "stream",
          "name": "stdout",
          "text": [
            "Mounted at /content/drive\n"
          ]
        }
      ],
      "source": [
        "from google.colab import drive\n",
        "drive.mount('/content/drive')"
      ]
    },
    {
      "cell_type": "code",
      "execution_count": 3,
      "metadata": {
        "id": "jD46RoK4uQnq"
      },
      "outputs": [],
      "source": [
        "# Reading the data as pandas dataframe\n",
        "applicant_df=pd.read_csv('/content/drive/MyDrive/Interview assignments/Reunion/applicant.csv')\n",
        "loan_df=pd.read_csv('/content/drive/MyDrive/Interview assignments/Reunion/loan.csv')"
      ]
    },
    {
      "cell_type": "markdown",
      "metadata": {
        "id": "tsf4VakRe6BG"
      },
      "source": [
        "## **2. Cleaning the Data**\n",
        "\n",
        "In this step, we treat null, missing, \"?\" or duplicate values.\n",
        "\n",
        "When there is any string containing a Python literal in any of the important feature, we also evaluate them.\n",
        "\n",
        "We do encoding of categorical features to make it usuable in the model.\n",
        "\n",
        "We also create new feature when found important during the analysis.\n",
        "\n",
        "Thus, we get a clean experience set with important features. \n",
        "\n",
        "We check the statistics further on clean data."
      ]
    },
    {
      "cell_type": "markdown",
      "metadata": {
        "id": "0oEC5kONqoPq"
      },
      "source": [
        "###4.1 Creating Dataset with Relevant Features"
      ]
    },
    {
      "cell_type": "code",
      "source": [
        "applicant_df.columns"
      ],
      "metadata": {
        "colab": {
          "base_uri": "https://localhost:8080/"
        },
        "id": "6bWIiBr94P1d",
        "outputId": "7badbb14-2ddb-4287-ef26-42d0dc9f8ab5"
      },
      "execution_count": 24,
      "outputs": [
        {
          "output_type": "execute_result",
          "data": {
            "text/plain": [
              "Index(['applicant_id', 'Primary_applicant_age_in_years', 'Gender',\n",
              "       'Marital_status', 'Number_of_dependents', 'Housing',\n",
              "       'Years_at_current_residence', 'Employment_status',\n",
              "       'Has_been_employed_for_at_least', 'Has_been_employed_for_at_most',\n",
              "       'Telephone', 'Foreign_worker', 'Savings_account_balance',\n",
              "       'Balance_in_existing_bank_account_(lower_limit_of_bucket)',\n",
              "       'Balance_in_existing_bank_account_(upper_limit_of_bucket)'],\n",
              "      dtype='object')"
            ]
          },
          "metadata": {},
          "execution_count": 24
        }
      ]
    },
    {
      "cell_type": "code",
      "source": [
        "loan_df.columns"
      ],
      "metadata": {
        "colab": {
          "base_uri": "https://localhost:8080/"
        },
        "id": "Po01AaIX4ZKZ",
        "outputId": "a058cbab-4137-41ff-8f47-9178112fd9f9"
      },
      "execution_count": 25,
      "outputs": [
        {
          "output_type": "execute_result",
          "data": {
            "text/plain": [
              "Index(['loan_application_id', 'applicant_id', 'Months_loan_taken_for',\n",
              "       'Purpose', 'Principal_loan_amount',\n",
              "       'EMI_rate_in_percentage_of_disposable_income', 'Property',\n",
              "       'Has_coapplicant', 'Has_guarantor', 'Other_EMI_plans',\n",
              "       'Number_of_existing_loans_at_this_bank', 'Loan_history',\n",
              "       'high_risk_applicant'],\n",
              "      dtype='object')"
            ]
          },
          "metadata": {},
          "execution_count": 25
        }
      ]
    },
    {
      "cell_type": "code",
      "source": [
        "# Merging two dfs\n",
        "loan_df_combined=pd.merge(applicant_df, loan_df, how='inner',left_on='applicant_id',right_on='applicant_id')"
      ],
      "metadata": {
        "id": "WtFut0Z05Lhv"
      },
      "execution_count": 26,
      "outputs": []
    },
    {
      "cell_type": "code",
      "source": [
        "loan_df_combined.head(2)"
      ],
      "metadata": {
        "colab": {
          "base_uri": "https://localhost:8080/",
          "height": 275
        },
        "id": "-Qy3jWds5plt",
        "outputId": "20871112-ac17-45b7-db1f-ef9941f246d1"
      },
      "execution_count": 27,
      "outputs": [
        {
          "output_type": "execute_result",
          "data": {
            "text/plain": [
              "   applicant_id  Primary_applicant_age_in_years  Gender  \\\n",
              "0       1469590                              67    male   \n",
              "1       1203873                              22  female   \n",
              "\n",
              "               Marital_status  Number_of_dependents Housing  \\\n",
              "0                      single                     1     own   \n",
              "1  divorced/separated/married                     1     own   \n",
              "\n",
              "   Years_at_current_residence            Employment_status  \\\n",
              "0                           4  skilled employee / official   \n",
              "1                           2  skilled employee / official   \n",
              "\n",
              "  Has_been_employed_for_at_least Has_been_employed_for_at_most  ...  \\\n",
              "0                        7 years                           NaN  ...   \n",
              "1                         1 year                       4 years  ...   \n",
              "\n",
              "                Purpose  Principal_loan_amount  \\\n",
              "0  electronic equipment                1169000   \n",
              "1  electronic equipment                5951000   \n",
              "\n",
              "  EMI_rate_in_percentage_of_disposable_income     Property Has_coapplicant  \\\n",
              "0                                           4  real estate               0   \n",
              "1                                           2  real estate               0   \n",
              "\n",
              "  Has_guarantor  Other_EMI_plans Number_of_existing_loans_at_this_bank  \\\n",
              "0             0              NaN                                     2   \n",
              "1             0              NaN                                     1   \n",
              "\n",
              "                             Loan_history  high_risk_applicant  \n",
              "0   critical/pending loans at other banks                    0  \n",
              "1  existing loans paid back duly till now                    1  \n",
              "\n",
              "[2 rows x 27 columns]"
            ],
            "text/html": [
              "\n",
              "  <div id=\"df-c243d796-76cc-45fd-a9b7-98056503600e\">\n",
              "    <div class=\"colab-df-container\">\n",
              "      <div>\n",
              "<style scoped>\n",
              "    .dataframe tbody tr th:only-of-type {\n",
              "        vertical-align: middle;\n",
              "    }\n",
              "\n",
              "    .dataframe tbody tr th {\n",
              "        vertical-align: top;\n",
              "    }\n",
              "\n",
              "    .dataframe thead th {\n",
              "        text-align: right;\n",
              "    }\n",
              "</style>\n",
              "<table border=\"1\" class=\"dataframe\">\n",
              "  <thead>\n",
              "    <tr style=\"text-align: right;\">\n",
              "      <th></th>\n",
              "      <th>applicant_id</th>\n",
              "      <th>Primary_applicant_age_in_years</th>\n",
              "      <th>Gender</th>\n",
              "      <th>Marital_status</th>\n",
              "      <th>Number_of_dependents</th>\n",
              "      <th>Housing</th>\n",
              "      <th>Years_at_current_residence</th>\n",
              "      <th>Employment_status</th>\n",
              "      <th>Has_been_employed_for_at_least</th>\n",
              "      <th>Has_been_employed_for_at_most</th>\n",
              "      <th>...</th>\n",
              "      <th>Purpose</th>\n",
              "      <th>Principal_loan_amount</th>\n",
              "      <th>EMI_rate_in_percentage_of_disposable_income</th>\n",
              "      <th>Property</th>\n",
              "      <th>Has_coapplicant</th>\n",
              "      <th>Has_guarantor</th>\n",
              "      <th>Other_EMI_plans</th>\n",
              "      <th>Number_of_existing_loans_at_this_bank</th>\n",
              "      <th>Loan_history</th>\n",
              "      <th>high_risk_applicant</th>\n",
              "    </tr>\n",
              "  </thead>\n",
              "  <tbody>\n",
              "    <tr>\n",
              "      <th>0</th>\n",
              "      <td>1469590</td>\n",
              "      <td>67</td>\n",
              "      <td>male</td>\n",
              "      <td>single</td>\n",
              "      <td>1</td>\n",
              "      <td>own</td>\n",
              "      <td>4</td>\n",
              "      <td>skilled employee / official</td>\n",
              "      <td>7 years</td>\n",
              "      <td>NaN</td>\n",
              "      <td>...</td>\n",
              "      <td>electronic equipment</td>\n",
              "      <td>1169000</td>\n",
              "      <td>4</td>\n",
              "      <td>real estate</td>\n",
              "      <td>0</td>\n",
              "      <td>0</td>\n",
              "      <td>NaN</td>\n",
              "      <td>2</td>\n",
              "      <td>critical/pending loans at other banks</td>\n",
              "      <td>0</td>\n",
              "    </tr>\n",
              "    <tr>\n",
              "      <th>1</th>\n",
              "      <td>1203873</td>\n",
              "      <td>22</td>\n",
              "      <td>female</td>\n",
              "      <td>divorced/separated/married</td>\n",
              "      <td>1</td>\n",
              "      <td>own</td>\n",
              "      <td>2</td>\n",
              "      <td>skilled employee / official</td>\n",
              "      <td>1 year</td>\n",
              "      <td>4 years</td>\n",
              "      <td>...</td>\n",
              "      <td>electronic equipment</td>\n",
              "      <td>5951000</td>\n",
              "      <td>2</td>\n",
              "      <td>real estate</td>\n",
              "      <td>0</td>\n",
              "      <td>0</td>\n",
              "      <td>NaN</td>\n",
              "      <td>1</td>\n",
              "      <td>existing loans paid back duly till now</td>\n",
              "      <td>1</td>\n",
              "    </tr>\n",
              "  </tbody>\n",
              "</table>\n",
              "<p>2 rows × 27 columns</p>\n",
              "</div>\n",
              "      <button class=\"colab-df-convert\" onclick=\"convertToInteractive('df-c243d796-76cc-45fd-a9b7-98056503600e')\"\n",
              "              title=\"Convert this dataframe to an interactive table.\"\n",
              "              style=\"display:none;\">\n",
              "        \n",
              "  <svg xmlns=\"http://www.w3.org/2000/svg\" height=\"24px\"viewBox=\"0 0 24 24\"\n",
              "       width=\"24px\">\n",
              "    <path d=\"M0 0h24v24H0V0z\" fill=\"none\"/>\n",
              "    <path d=\"M18.56 5.44l.94 2.06.94-2.06 2.06-.94-2.06-.94-.94-2.06-.94 2.06-2.06.94zm-11 1L8.5 8.5l.94-2.06 2.06-.94-2.06-.94L8.5 2.5l-.94 2.06-2.06.94zm10 10l.94 2.06.94-2.06 2.06-.94-2.06-.94-.94-2.06-.94 2.06-2.06.94z\"/><path d=\"M17.41 7.96l-1.37-1.37c-.4-.4-.92-.59-1.43-.59-.52 0-1.04.2-1.43.59L10.3 9.45l-7.72 7.72c-.78.78-.78 2.05 0 2.83L4 21.41c.39.39.9.59 1.41.59.51 0 1.02-.2 1.41-.59l7.78-7.78 2.81-2.81c.8-.78.8-2.07 0-2.86zM5.41 20L4 18.59l7.72-7.72 1.47 1.35L5.41 20z\"/>\n",
              "  </svg>\n",
              "      </button>\n",
              "      \n",
              "  <style>\n",
              "    .colab-df-container {\n",
              "      display:flex;\n",
              "      flex-wrap:wrap;\n",
              "      gap: 12px;\n",
              "    }\n",
              "\n",
              "    .colab-df-convert {\n",
              "      background-color: #E8F0FE;\n",
              "      border: none;\n",
              "      border-radius: 50%;\n",
              "      cursor: pointer;\n",
              "      display: none;\n",
              "      fill: #1967D2;\n",
              "      height: 32px;\n",
              "      padding: 0 0 0 0;\n",
              "      width: 32px;\n",
              "    }\n",
              "\n",
              "    .colab-df-convert:hover {\n",
              "      background-color: #E2EBFA;\n",
              "      box-shadow: 0px 1px 2px rgba(60, 64, 67, 0.3), 0px 1px 3px 1px rgba(60, 64, 67, 0.15);\n",
              "      fill: #174EA6;\n",
              "    }\n",
              "\n",
              "    [theme=dark] .colab-df-convert {\n",
              "      background-color: #3B4455;\n",
              "      fill: #D2E3FC;\n",
              "    }\n",
              "\n",
              "    [theme=dark] .colab-df-convert:hover {\n",
              "      background-color: #434B5C;\n",
              "      box-shadow: 0px 1px 3px 1px rgba(0, 0, 0, 0.15);\n",
              "      filter: drop-shadow(0px 1px 2px rgba(0, 0, 0, 0.3));\n",
              "      fill: #FFFFFF;\n",
              "    }\n",
              "  </style>\n",
              "\n",
              "      <script>\n",
              "        const buttonEl =\n",
              "          document.querySelector('#df-c243d796-76cc-45fd-a9b7-98056503600e button.colab-df-convert');\n",
              "        buttonEl.style.display =\n",
              "          google.colab.kernel.accessAllowed ? 'block' : 'none';\n",
              "\n",
              "        async function convertToInteractive(key) {\n",
              "          const element = document.querySelector('#df-c243d796-76cc-45fd-a9b7-98056503600e');\n",
              "          const dataTable =\n",
              "            await google.colab.kernel.invokeFunction('convertToInteractive',\n",
              "                                                     [key], {});\n",
              "          if (!dataTable) return;\n",
              "\n",
              "          const docLinkHtml = 'Like what you see? Visit the ' +\n",
              "            '<a target=\"_blank\" href=https://colab.research.google.com/notebooks/data_table.ipynb>data table notebook</a>'\n",
              "            + ' to learn more about interactive tables.';\n",
              "          element.innerHTML = '';\n",
              "          dataTable['output_type'] = 'display_data';\n",
              "          await google.colab.output.renderOutput(dataTable, element);\n",
              "          const docLink = document.createElement('div');\n",
              "          docLink.innerHTML = docLinkHtml;\n",
              "          element.appendChild(docLink);\n",
              "        }\n",
              "      </script>\n",
              "    </div>\n",
              "  </div>\n",
              "  "
            ]
          },
          "metadata": {},
          "execution_count": 27
        }
      ]
    },
    {
      "cell_type": "code",
      "source": [
        "loan_df_combined.columns"
      ],
      "metadata": {
        "colab": {
          "base_uri": "https://localhost:8080/"
        },
        "id": "QF32JJ9O6EzL",
        "outputId": "76c2550e-e7a1-4c15-824d-2e8bebef6d92"
      },
      "execution_count": 28,
      "outputs": [
        {
          "output_type": "execute_result",
          "data": {
            "text/plain": [
              "Index(['applicant_id', 'Primary_applicant_age_in_years', 'Gender',\n",
              "       'Marital_status', 'Number_of_dependents', 'Housing',\n",
              "       'Years_at_current_residence', 'Employment_status',\n",
              "       'Has_been_employed_for_at_least', 'Has_been_employed_for_at_most',\n",
              "       'Telephone', 'Foreign_worker', 'Savings_account_balance',\n",
              "       'Balance_in_existing_bank_account_(lower_limit_of_bucket)',\n",
              "       'Balance_in_existing_bank_account_(upper_limit_of_bucket)',\n",
              "       'loan_application_id', 'Months_loan_taken_for', 'Purpose',\n",
              "       'Principal_loan_amount', 'EMI_rate_in_percentage_of_disposable_income',\n",
              "       'Property', 'Has_coapplicant', 'Has_guarantor', 'Other_EMI_plans',\n",
              "       'Number_of_existing_loans_at_this_bank', 'Loan_history',\n",
              "       'high_risk_applicant'],\n",
              "      dtype='object')"
            ]
          },
          "metadata": {},
          "execution_count": 28
        }
      ]
    },
    {
      "cell_type": "code",
      "execution_count": 29,
      "metadata": {
        "id": "kTtsPdL3e5Gx"
      },
      "outputs": [],
      "source": [
        "# Finding out the relevant features from the deeper understanding of the data\n",
        "relevant_features=['Primary_applicant_age_in_years', 'Gender',\n",
        "       'Marital_status', 'Number_of_dependents', 'Housing',\n",
        "       'Years_at_current_residence', 'Employment_status',\n",
        "       'Has_been_employed_for_at_least', \n",
        "       'Foreign_worker', 'Savings_account_balance',\n",
        "       'Months_loan_taken_for', \n",
        "       'Principal_loan_amount', 'EMI_rate_in_percentage_of_disposable_income',\n",
        "       'Has_coapplicant', 'Has_guarantor',\n",
        "       'Number_of_existing_loans_at_this_bank', 'Loan_history',\n",
        "       'high_risk_applicant']"
      ]
    },
    {
      "cell_type": "code",
      "execution_count": 30,
      "metadata": {
        "id": "gTfcJbmyhbSe"
      },
      "outputs": [],
      "source": [
        "# Creating new df with relevant features\n",
        "loan_df_combined_clean=loan_df_combined[relevant_features]"
      ]
    },
    {
      "cell_type": "markdown",
      "metadata": {
        "id": "KvJ7j2worCEL"
      },
      "source": [
        "###4.2 Treating the missing, null or duplicate values"
      ]
    },
    {
      "cell_type": "code",
      "execution_count": 31,
      "metadata": {
        "colab": {
          "base_uri": "https://localhost:8080/"
        },
        "id": "8b8Nhv6THX6e",
        "outputId": "0d5cbc71-e8b4-4486-b342-ae2a06edf26a"
      },
      "outputs": [
        {
          "output_type": "execute_result",
          "data": {
            "text/plain": [
              "0"
            ]
          },
          "metadata": {},
          "execution_count": 31
        }
      ],
      "source": [
        "# Checking is there any duplicate value\n",
        "len(loan_df_combined_clean[loan_df_combined_clean.duplicated()]) "
      ]
    },
    {
      "cell_type": "code",
      "source": [
        "loan_df_combined_clean.shape"
      ],
      "metadata": {
        "colab": {
          "base_uri": "https://localhost:8080/"
        },
        "id": "nWRlDxEIUXAs",
        "outputId": "de407b6b-4863-495a-c251-4116d442df0e"
      },
      "execution_count": 32,
      "outputs": [
        {
          "output_type": "execute_result",
          "data": {
            "text/plain": [
              "(1000, 18)"
            ]
          },
          "metadata": {},
          "execution_count": 32
        }
      ]
    },
    {
      "cell_type": "code",
      "execution_count": 33,
      "metadata": {
        "colab": {
          "base_uri": "https://localhost:8080/"
        },
        "id": "Co6yd8ivJ5s7",
        "outputId": "9f05cde2-38f1-4359-f11b-6b0ba97f4c7c"
      },
      "outputs": [
        {
          "output_type": "stream",
          "name": "stdout",
          "text": [
            "Primary_applicant_age_in_years                   0\n",
            "Gender                                           0\n",
            "Marital_status                                   0\n",
            "Number_of_dependents                             0\n",
            "Housing                                          0\n",
            "Years_at_current_residence                       0\n",
            "Employment_status                                0\n",
            "Has_been_employed_for_at_least                  62\n",
            "Foreign_worker                                   0\n",
            "Savings_account_balance                        183\n",
            "Months_loan_taken_for                            0\n",
            "Principal_loan_amount                            0\n",
            "EMI_rate_in_percentage_of_disposable_income      0\n",
            "Has_coapplicant                                  0\n",
            "Has_guarantor                                    0\n",
            "Number_of_existing_loans_at_this_bank            0\n",
            "Loan_history                                     0\n",
            "high_risk_applicant                              0\n",
            "dtype: int64\n"
          ]
        }
      ],
      "source": [
        "# checking the no. of null values in each column\n",
        "print(loan_df_combined_clean.isnull().sum())"
      ]
    },
    {
      "cell_type": "code",
      "source": [
        "loan_df_combined_clean.info()"
      ],
      "metadata": {
        "colab": {
          "base_uri": "https://localhost:8080/"
        },
        "id": "H97Hm747U7k0",
        "outputId": "f2829fc9-4419-49c3-fb06-8c3eba1e665d"
      },
      "execution_count": 34,
      "outputs": [
        {
          "output_type": "stream",
          "name": "stdout",
          "text": [
            "<class 'pandas.core.frame.DataFrame'>\n",
            "Int64Index: 1000 entries, 0 to 999\n",
            "Data columns (total 18 columns):\n",
            " #   Column                                       Non-Null Count  Dtype \n",
            "---  ------                                       --------------  ----- \n",
            " 0   Primary_applicant_age_in_years               1000 non-null   int64 \n",
            " 1   Gender                                       1000 non-null   object\n",
            " 2   Marital_status                               1000 non-null   object\n",
            " 3   Number_of_dependents                         1000 non-null   int64 \n",
            " 4   Housing                                      1000 non-null   object\n",
            " 5   Years_at_current_residence                   1000 non-null   int64 \n",
            " 6   Employment_status                            1000 non-null   object\n",
            " 7   Has_been_employed_for_at_least               938 non-null    object\n",
            " 8   Foreign_worker                               1000 non-null   int64 \n",
            " 9   Savings_account_balance                      817 non-null    object\n",
            " 10  Months_loan_taken_for                        1000 non-null   int64 \n",
            " 11  Principal_loan_amount                        1000 non-null   int64 \n",
            " 12  EMI_rate_in_percentage_of_disposable_income  1000 non-null   int64 \n",
            " 13  Has_coapplicant                              1000 non-null   int64 \n",
            " 14  Has_guarantor                                1000 non-null   int64 \n",
            " 15  Number_of_existing_loans_at_this_bank        1000 non-null   int64 \n",
            " 16  Loan_history                                 1000 non-null   object\n",
            " 17  high_risk_applicant                          1000 non-null   int64 \n",
            "dtypes: int64(11), object(7)\n",
            "memory usage: 148.4+ KB\n"
          ]
        }
      ]
    },
    {
      "cell_type": "code",
      "source": [
        "loan_df_combined_clean.head()"
      ],
      "metadata": {
        "colab": {
          "base_uri": "https://localhost:8080/",
          "height": 444
        },
        "id": "843pwbt1_Liq",
        "outputId": "33c2eae0-4e8e-4cc5-a8e4-83c2171ab5fa"
      },
      "execution_count": 35,
      "outputs": [
        {
          "output_type": "execute_result",
          "data": {
            "text/plain": [
              "   Primary_applicant_age_in_years  Gender              Marital_status  \\\n",
              "0                              67    male                      single   \n",
              "1                              22  female  divorced/separated/married   \n",
              "2                              49    male                      single   \n",
              "3                              45    male                      single   \n",
              "4                              53    male                      single   \n",
              "\n",
              "   Number_of_dependents   Housing  Years_at_current_residence  \\\n",
              "0                     1       own                           4   \n",
              "1                     1       own                           2   \n",
              "2                     2       own                           3   \n",
              "3                     2  for free                           4   \n",
              "4                     2  for free                           4   \n",
              "\n",
              "             Employment_status Has_been_employed_for_at_least  Foreign_worker  \\\n",
              "0  skilled employee / official                        7 years               1   \n",
              "1  skilled employee / official                         1 year               1   \n",
              "2         unskilled - resident                        4 years               1   \n",
              "3  skilled employee / official                        4 years               1   \n",
              "4  skilled employee / official                         1 year               1   \n",
              "\n",
              "  Savings_account_balance  Months_loan_taken_for  Principal_loan_amount  \\\n",
              "0                     NaN                      6                1169000   \n",
              "1                     Low                     48                5951000   \n",
              "2                     Low                     12                2096000   \n",
              "3                     Low                     42                7882000   \n",
              "4                     Low                     24                4870000   \n",
              "\n",
              "   EMI_rate_in_percentage_of_disposable_income  Has_coapplicant  \\\n",
              "0                                            4                0   \n",
              "1                                            2                0   \n",
              "2                                            2                0   \n",
              "3                                            2                0   \n",
              "4                                            3                0   \n",
              "\n",
              "   Has_guarantor  Number_of_existing_loans_at_this_bank  \\\n",
              "0              0                                      2   \n",
              "1              0                                      1   \n",
              "2              0                                      1   \n",
              "3              1                                      1   \n",
              "4              0                                      2   \n",
              "\n",
              "                             Loan_history  high_risk_applicant  \n",
              "0   critical/pending loans at other banks                    0  \n",
              "1  existing loans paid back duly till now                    1  \n",
              "2   critical/pending loans at other banks                    0  \n",
              "3  existing loans paid back duly till now                    0  \n",
              "4   delay in paying off loans in the past                    1  "
            ],
            "text/html": [
              "\n",
              "  <div id=\"df-bda4694c-e574-418e-884a-7196277d996f\">\n",
              "    <div class=\"colab-df-container\">\n",
              "      <div>\n",
              "<style scoped>\n",
              "    .dataframe tbody tr th:only-of-type {\n",
              "        vertical-align: middle;\n",
              "    }\n",
              "\n",
              "    .dataframe tbody tr th {\n",
              "        vertical-align: top;\n",
              "    }\n",
              "\n",
              "    .dataframe thead th {\n",
              "        text-align: right;\n",
              "    }\n",
              "</style>\n",
              "<table border=\"1\" class=\"dataframe\">\n",
              "  <thead>\n",
              "    <tr style=\"text-align: right;\">\n",
              "      <th></th>\n",
              "      <th>Primary_applicant_age_in_years</th>\n",
              "      <th>Gender</th>\n",
              "      <th>Marital_status</th>\n",
              "      <th>Number_of_dependents</th>\n",
              "      <th>Housing</th>\n",
              "      <th>Years_at_current_residence</th>\n",
              "      <th>Employment_status</th>\n",
              "      <th>Has_been_employed_for_at_least</th>\n",
              "      <th>Foreign_worker</th>\n",
              "      <th>Savings_account_balance</th>\n",
              "      <th>Months_loan_taken_for</th>\n",
              "      <th>Principal_loan_amount</th>\n",
              "      <th>EMI_rate_in_percentage_of_disposable_income</th>\n",
              "      <th>Has_coapplicant</th>\n",
              "      <th>Has_guarantor</th>\n",
              "      <th>Number_of_existing_loans_at_this_bank</th>\n",
              "      <th>Loan_history</th>\n",
              "      <th>high_risk_applicant</th>\n",
              "    </tr>\n",
              "  </thead>\n",
              "  <tbody>\n",
              "    <tr>\n",
              "      <th>0</th>\n",
              "      <td>67</td>\n",
              "      <td>male</td>\n",
              "      <td>single</td>\n",
              "      <td>1</td>\n",
              "      <td>own</td>\n",
              "      <td>4</td>\n",
              "      <td>skilled employee / official</td>\n",
              "      <td>7 years</td>\n",
              "      <td>1</td>\n",
              "      <td>NaN</td>\n",
              "      <td>6</td>\n",
              "      <td>1169000</td>\n",
              "      <td>4</td>\n",
              "      <td>0</td>\n",
              "      <td>0</td>\n",
              "      <td>2</td>\n",
              "      <td>critical/pending loans at other banks</td>\n",
              "      <td>0</td>\n",
              "    </tr>\n",
              "    <tr>\n",
              "      <th>1</th>\n",
              "      <td>22</td>\n",
              "      <td>female</td>\n",
              "      <td>divorced/separated/married</td>\n",
              "      <td>1</td>\n",
              "      <td>own</td>\n",
              "      <td>2</td>\n",
              "      <td>skilled employee / official</td>\n",
              "      <td>1 year</td>\n",
              "      <td>1</td>\n",
              "      <td>Low</td>\n",
              "      <td>48</td>\n",
              "      <td>5951000</td>\n",
              "      <td>2</td>\n",
              "      <td>0</td>\n",
              "      <td>0</td>\n",
              "      <td>1</td>\n",
              "      <td>existing loans paid back duly till now</td>\n",
              "      <td>1</td>\n",
              "    </tr>\n",
              "    <tr>\n",
              "      <th>2</th>\n",
              "      <td>49</td>\n",
              "      <td>male</td>\n",
              "      <td>single</td>\n",
              "      <td>2</td>\n",
              "      <td>own</td>\n",
              "      <td>3</td>\n",
              "      <td>unskilled - resident</td>\n",
              "      <td>4 years</td>\n",
              "      <td>1</td>\n",
              "      <td>Low</td>\n",
              "      <td>12</td>\n",
              "      <td>2096000</td>\n",
              "      <td>2</td>\n",
              "      <td>0</td>\n",
              "      <td>0</td>\n",
              "      <td>1</td>\n",
              "      <td>critical/pending loans at other banks</td>\n",
              "      <td>0</td>\n",
              "    </tr>\n",
              "    <tr>\n",
              "      <th>3</th>\n",
              "      <td>45</td>\n",
              "      <td>male</td>\n",
              "      <td>single</td>\n",
              "      <td>2</td>\n",
              "      <td>for free</td>\n",
              "      <td>4</td>\n",
              "      <td>skilled employee / official</td>\n",
              "      <td>4 years</td>\n",
              "      <td>1</td>\n",
              "      <td>Low</td>\n",
              "      <td>42</td>\n",
              "      <td>7882000</td>\n",
              "      <td>2</td>\n",
              "      <td>0</td>\n",
              "      <td>1</td>\n",
              "      <td>1</td>\n",
              "      <td>existing loans paid back duly till now</td>\n",
              "      <td>0</td>\n",
              "    </tr>\n",
              "    <tr>\n",
              "      <th>4</th>\n",
              "      <td>53</td>\n",
              "      <td>male</td>\n",
              "      <td>single</td>\n",
              "      <td>2</td>\n",
              "      <td>for free</td>\n",
              "      <td>4</td>\n",
              "      <td>skilled employee / official</td>\n",
              "      <td>1 year</td>\n",
              "      <td>1</td>\n",
              "      <td>Low</td>\n",
              "      <td>24</td>\n",
              "      <td>4870000</td>\n",
              "      <td>3</td>\n",
              "      <td>0</td>\n",
              "      <td>0</td>\n",
              "      <td>2</td>\n",
              "      <td>delay in paying off loans in the past</td>\n",
              "      <td>1</td>\n",
              "    </tr>\n",
              "  </tbody>\n",
              "</table>\n",
              "</div>\n",
              "      <button class=\"colab-df-convert\" onclick=\"convertToInteractive('df-bda4694c-e574-418e-884a-7196277d996f')\"\n",
              "              title=\"Convert this dataframe to an interactive table.\"\n",
              "              style=\"display:none;\">\n",
              "        \n",
              "  <svg xmlns=\"http://www.w3.org/2000/svg\" height=\"24px\"viewBox=\"0 0 24 24\"\n",
              "       width=\"24px\">\n",
              "    <path d=\"M0 0h24v24H0V0z\" fill=\"none\"/>\n",
              "    <path d=\"M18.56 5.44l.94 2.06.94-2.06 2.06-.94-2.06-.94-.94-2.06-.94 2.06-2.06.94zm-11 1L8.5 8.5l.94-2.06 2.06-.94-2.06-.94L8.5 2.5l-.94 2.06-2.06.94zm10 10l.94 2.06.94-2.06 2.06-.94-2.06-.94-.94-2.06-.94 2.06-2.06.94z\"/><path d=\"M17.41 7.96l-1.37-1.37c-.4-.4-.92-.59-1.43-.59-.52 0-1.04.2-1.43.59L10.3 9.45l-7.72 7.72c-.78.78-.78 2.05 0 2.83L4 21.41c.39.39.9.59 1.41.59.51 0 1.02-.2 1.41-.59l7.78-7.78 2.81-2.81c.8-.78.8-2.07 0-2.86zM5.41 20L4 18.59l7.72-7.72 1.47 1.35L5.41 20z\"/>\n",
              "  </svg>\n",
              "      </button>\n",
              "      \n",
              "  <style>\n",
              "    .colab-df-container {\n",
              "      display:flex;\n",
              "      flex-wrap:wrap;\n",
              "      gap: 12px;\n",
              "    }\n",
              "\n",
              "    .colab-df-convert {\n",
              "      background-color: #E8F0FE;\n",
              "      border: none;\n",
              "      border-radius: 50%;\n",
              "      cursor: pointer;\n",
              "      display: none;\n",
              "      fill: #1967D2;\n",
              "      height: 32px;\n",
              "      padding: 0 0 0 0;\n",
              "      width: 32px;\n",
              "    }\n",
              "\n",
              "    .colab-df-convert:hover {\n",
              "      background-color: #E2EBFA;\n",
              "      box-shadow: 0px 1px 2px rgba(60, 64, 67, 0.3), 0px 1px 3px 1px rgba(60, 64, 67, 0.15);\n",
              "      fill: #174EA6;\n",
              "    }\n",
              "\n",
              "    [theme=dark] .colab-df-convert {\n",
              "      background-color: #3B4455;\n",
              "      fill: #D2E3FC;\n",
              "    }\n",
              "\n",
              "    [theme=dark] .colab-df-convert:hover {\n",
              "      background-color: #434B5C;\n",
              "      box-shadow: 0px 1px 3px 1px rgba(0, 0, 0, 0.15);\n",
              "      filter: drop-shadow(0px 1px 2px rgba(0, 0, 0, 0.3));\n",
              "      fill: #FFFFFF;\n",
              "    }\n",
              "  </style>\n",
              "\n",
              "      <script>\n",
              "        const buttonEl =\n",
              "          document.querySelector('#df-bda4694c-e574-418e-884a-7196277d996f button.colab-df-convert');\n",
              "        buttonEl.style.display =\n",
              "          google.colab.kernel.accessAllowed ? 'block' : 'none';\n",
              "\n",
              "        async function convertToInteractive(key) {\n",
              "          const element = document.querySelector('#df-bda4694c-e574-418e-884a-7196277d996f');\n",
              "          const dataTable =\n",
              "            await google.colab.kernel.invokeFunction('convertToInteractive',\n",
              "                                                     [key], {});\n",
              "          if (!dataTable) return;\n",
              "\n",
              "          const docLinkHtml = 'Like what you see? Visit the ' +\n",
              "            '<a target=\"_blank\" href=https://colab.research.google.com/notebooks/data_table.ipynb>data table notebook</a>'\n",
              "            + ' to learn more about interactive tables.';\n",
              "          element.innerHTML = '';\n",
              "          dataTable['output_type'] = 'display_data';\n",
              "          await google.colab.output.renderOutput(dataTable, element);\n",
              "          const docLink = document.createElement('div');\n",
              "          docLink.innerHTML = docLinkHtml;\n",
              "          element.appendChild(docLink);\n",
              "        }\n",
              "      </script>\n",
              "    </div>\n",
              "  </div>\n",
              "  "
            ]
          },
          "metadata": {},
          "execution_count": 35
        }
      ]
    },
    {
      "cell_type": "code",
      "source": [
        "loan_df_combined_clean['Savings_account_balance'].unique()"
      ],
      "metadata": {
        "colab": {
          "base_uri": "https://localhost:8080/"
        },
        "id": "5VNrSpb5_2w4",
        "outputId": "d4d4676c-32f9-4e42-a7d8-b4e50c69f95e"
      },
      "execution_count": 36,
      "outputs": [
        {
          "output_type": "execute_result",
          "data": {
            "text/plain": [
              "array([nan, 'Low', 'High', 'Very high', 'Medium'], dtype=object)"
            ]
          },
          "metadata": {},
          "execution_count": 36
        }
      ]
    },
    {
      "cell_type": "code",
      "source": [
        "loan_df_combined_clean['Savings_account_balance'].mode()"
      ],
      "metadata": {
        "colab": {
          "base_uri": "https://localhost:8080/"
        },
        "id": "bFY_A3tcAIkU",
        "outputId": "9df905d5-08c9-453b-b664-9de1a71bf356"
      },
      "execution_count": 37,
      "outputs": [
        {
          "output_type": "execute_result",
          "data": {
            "text/plain": [
              "0    Low\n",
              "dtype: object"
            ]
          },
          "metadata": {},
          "execution_count": 37
        }
      ]
    },
    {
      "cell_type": "code",
      "source": [
        "# Conversion of Categorical column (Savings_account_balance) to numerical\n",
        "# Imputing null values in 'Savings_account_balance' with mode (0)\n",
        "loan_df_combined_clean['Savings_account_balance'] = loan_df_combined_clean['Savings_account_balance'].apply(lambda x : 0 if x =='Low' else (1 if x==\"Medium\" else (2 if x==\"High\" else(3 if x==\"Very high\" else 0))))"
      ],
      "metadata": {
        "colab": {
          "base_uri": "https://localhost:8080/"
        },
        "id": "0iWp4UzWBOIS",
        "outputId": "62eb499e-0af9-4566-a1b8-27bc23be93d6"
      },
      "execution_count": 38,
      "outputs": [
        {
          "output_type": "stream",
          "name": "stderr",
          "text": [
            "/usr/local/lib/python3.7/dist-packages/ipykernel_launcher.py:3: SettingWithCopyWarning: \n",
            "A value is trying to be set on a copy of a slice from a DataFrame.\n",
            "Try using .loc[row_indexer,col_indexer] = value instead\n",
            "\n",
            "See the caveats in the documentation: https://pandas.pydata.org/pandas-docs/stable/user_guide/indexing.html#returning-a-view-versus-a-copy\n",
            "  This is separate from the ipykernel package so we can avoid doing imports until\n"
          ]
        }
      ]
    },
    {
      "cell_type": "code",
      "source": [
        "loan_df_combined_clean['Savings_account_balance'].unique()"
      ],
      "metadata": {
        "colab": {
          "base_uri": "https://localhost:8080/"
        },
        "id": "Nc3ibMF-ITfR",
        "outputId": "0e2be9af-d6fe-4789-986f-7a6c9c7d66bc"
      },
      "execution_count": 39,
      "outputs": [
        {
          "output_type": "execute_result",
          "data": {
            "text/plain": [
              "array([0, 2, 3, 1])"
            ]
          },
          "metadata": {},
          "execution_count": 39
        }
      ]
    },
    {
      "cell_type": "code",
      "source": [
        "loan_df_combined_clean['Has_been_employed_for_at_least']"
      ],
      "metadata": {
        "colab": {
          "base_uri": "https://localhost:8080/"
        },
        "id": "W9qHXcvkMss3",
        "outputId": "bc4013ab-cf45-4286-b4d8-0dd3c47e16b4"
      },
      "execution_count": 40,
      "outputs": [
        {
          "output_type": "execute_result",
          "data": {
            "text/plain": [
              "0      7 years\n",
              "1       1 year\n",
              "2      4 years\n",
              "3      4 years\n",
              "4       1 year\n",
              "        ...   \n",
              "995    4 years\n",
              "996     1 year\n",
              "997    7 years\n",
              "998     1 year\n",
              "999        NaN\n",
              "Name: Has_been_employed_for_at_least, Length: 1000, dtype: object"
            ]
          },
          "metadata": {},
          "execution_count": 40
        }
      ]
    },
    {
      "cell_type": "code",
      "source": [
        "# Removing 'year'string to get the int \n",
        "loan_df_combined_clean['Has_been_employed_for_at_least']=loan_df_combined_clean['Has_been_employed_for_at_least'].apply(lambda x : int(x.split()[0]) if type(x)==str else np.nan)"
      ],
      "metadata": {
        "id": "r1znPTw1J_ho",
        "colab": {
          "base_uri": "https://localhost:8080/"
        },
        "outputId": "83a32d42-37de-4414-a717-84022e66e604"
      },
      "execution_count": 44,
      "outputs": [
        {
          "output_type": "stream",
          "name": "stderr",
          "text": [
            "/usr/local/lib/python3.7/dist-packages/ipykernel_launcher.py:2: SettingWithCopyWarning: \n",
            "A value is trying to be set on a copy of a slice from a DataFrame.\n",
            "Try using .loc[row_indexer,col_indexer] = value instead\n",
            "\n",
            "See the caveats in the documentation: https://pandas.pydata.org/pandas-docs/stable/user_guide/indexing.html#returning-a-view-versus-a-copy\n",
            "  \n"
          ]
        }
      ]
    },
    {
      "cell_type": "code",
      "source": [
        "# Imputing null values in 'Has_been_employed_for_at_least' with median\n",
        "loan_df_combined_clean['Has_been_employed_for_at_least']=loan_df_combined_clean['Savings_account_balance'].fillna(loan_df_combined_clean['Has_been_employed_for_at_least'].median())"
      ],
      "metadata": {
        "colab": {
          "base_uri": "https://localhost:8080/"
        },
        "id": "X3P-UcH0XjnI",
        "outputId": "fdaaf4b1-b9ec-49b2-c764-2da6f53f21f3"
      },
      "execution_count": 46,
      "outputs": [
        {
          "output_type": "stream",
          "name": "stderr",
          "text": [
            "/usr/local/lib/python3.7/dist-packages/ipykernel_launcher.py:2: SettingWithCopyWarning: \n",
            "A value is trying to be set on a copy of a slice from a DataFrame.\n",
            "Try using .loc[row_indexer,col_indexer] = value instead\n",
            "\n",
            "See the caveats in the documentation: https://pandas.pydata.org/pandas-docs/stable/user_guide/indexing.html#returning-a-view-versus-a-copy\n",
            "  \n"
          ]
        }
      ]
    },
    {
      "cell_type": "code",
      "source": [
        "loan_df_combined_clean.info()"
      ],
      "metadata": {
        "colab": {
          "base_uri": "https://localhost:8080/"
        },
        "id": "76dSEq9yAlAe",
        "outputId": "9f39dc84-b905-4c7d-eec6-185bec9baaa6"
      },
      "execution_count": 48,
      "outputs": [
        {
          "output_type": "stream",
          "name": "stdout",
          "text": [
            "<class 'pandas.core.frame.DataFrame'>\n",
            "Int64Index: 1000 entries, 0 to 999\n",
            "Data columns (total 18 columns):\n",
            " #   Column                                       Non-Null Count  Dtype \n",
            "---  ------                                       --------------  ----- \n",
            " 0   Primary_applicant_age_in_years               1000 non-null   int64 \n",
            " 1   Gender                                       1000 non-null   object\n",
            " 2   Marital_status                               1000 non-null   object\n",
            " 3   Number_of_dependents                         1000 non-null   int64 \n",
            " 4   Housing                                      1000 non-null   object\n",
            " 5   Years_at_current_residence                   1000 non-null   int64 \n",
            " 6   Employment_status                            1000 non-null   object\n",
            " 7   Has_been_employed_for_at_least               1000 non-null   int64 \n",
            " 8   Foreign_worker                               1000 non-null   int64 \n",
            " 9   Savings_account_balance                      1000 non-null   int64 \n",
            " 10  Months_loan_taken_for                        1000 non-null   int64 \n",
            " 11  Principal_loan_amount                        1000 non-null   int64 \n",
            " 12  EMI_rate_in_percentage_of_disposable_income  1000 non-null   int64 \n",
            " 13  Has_coapplicant                              1000 non-null   int64 \n",
            " 14  Has_guarantor                                1000 non-null   int64 \n",
            " 15  Number_of_existing_loans_at_this_bank        1000 non-null   int64 \n",
            " 16  Loan_history                                 1000 non-null   object\n",
            " 17  high_risk_applicant                          1000 non-null   int64 \n",
            "dtypes: int64(13), object(5)\n",
            "memory usage: 148.4+ KB\n"
          ]
        }
      ]
    },
    {
      "cell_type": "code",
      "source": [
        "for k in loan_df_combined_clean.columns:\n",
        "  if k!='Principal_loan_amount':\n",
        "    print(k)\n",
        "    print(loan_df_combined_clean[k].unique())\n",
        "    print('\\n')"
      ],
      "metadata": {
        "colab": {
          "base_uri": "https://localhost:8080/"
        },
        "id": "ozJHKOG0YDnH",
        "outputId": "012cc341-047c-46f5-b222-1ecb89d49dc0"
      },
      "execution_count": 53,
      "outputs": [
        {
          "output_type": "stream",
          "name": "stdout",
          "text": [
            "Primary_applicant_age_in_years\n",
            "[67 22 49 45 53 35 61 28 25 24 60 32 44 31 48 26 36 39 42 34 63 27 30 57\n",
            " 33 37 58 23 29 52 50 46 51 41 40 66 47 56 54 20 21 38 70 65 74 68 43 55\n",
            " 64 75 19 62 59]\n",
            "\n",
            "\n",
            "Gender\n",
            "['male' 'female']\n",
            "\n",
            "\n",
            "Marital_status\n",
            "['single' 'divorced/separated/married' 'divorced/separated'\n",
            " 'married/widowed']\n",
            "\n",
            "\n",
            "Number_of_dependents\n",
            "[1 2]\n",
            "\n",
            "\n",
            "Housing\n",
            "['own' 'for free' 'rent']\n",
            "\n",
            "\n",
            "Years_at_current_residence\n",
            "[4 2 3 1]\n",
            "\n",
            "\n",
            "Employment_status\n",
            "['skilled employee / official' 'unskilled - resident'\n",
            " 'management / self-employed / highly qualified employee / officer'\n",
            " 'unemployed / unskilled - non-resident']\n",
            "\n",
            "\n",
            "Has_been_employed_for_at_least\n",
            "[0 2 3 1]\n",
            "\n",
            "\n",
            "Foreign_worker\n",
            "[1 0]\n",
            "\n",
            "\n",
            "Savings_account_balance\n",
            "[0 2 3 1]\n",
            "\n",
            "\n",
            "Months_loan_taken_for\n",
            "[ 6 48 12 42 24 36 30 15  9 10  7 60 18 45 11 27  8 54 20 14 33 21 16  4\n",
            " 47 13 22 39 28  5 26 72 40]\n",
            "\n",
            "\n",
            "EMI_rate_in_percentage_of_disposable_income\n",
            "[4 2 3 1]\n",
            "\n",
            "\n",
            "Has_coapplicant\n",
            "[0 1]\n",
            "\n",
            "\n",
            "Has_guarantor\n",
            "[0 1]\n",
            "\n",
            "\n",
            "Number_of_existing_loans_at_this_bank\n",
            "[2 1 3 4]\n",
            "\n",
            "\n",
            "Loan_history\n",
            "['critical/pending loans at other banks'\n",
            " 'existing loans paid back duly till now'\n",
            " 'delay in paying off loans in the past'\n",
            " 'no loans taken/all loans paid back duly'\n",
            " 'all loans at this bank paid back duly']\n",
            "\n",
            "\n",
            "high_risk_applicant\n",
            "[0 1]\n",
            "\n",
            "\n"
          ]
        }
      ]
    },
    {
      "cell_type": "code",
      "source": [
        "# Converting nominal categorical columns to numeric by one hot encoding\n",
        "for k in loan_df_combined_clean.select_dtypes(include=['object']).columns:\n",
        "  loan_df_combined_clean = loan_df_combined_clean.join(pd.get_dummies(loan_df_combined_clean[k],drop_first=True))\n"
      ],
      "metadata": {
        "id": "CNprI7oiEpUr"
      },
      "execution_count": 55,
      "outputs": []
    },
    {
      "cell_type": "code",
      "source": [
        "loan_df_combined_clean.columns"
      ],
      "metadata": {
        "colab": {
          "base_uri": "https://localhost:8080/"
        },
        "id": "W5oL94FUDXb-",
        "outputId": "b43dc2d1-0ef5-4cf4-a559-0fc264c16a43"
      },
      "execution_count": 57,
      "outputs": [
        {
          "output_type": "execute_result",
          "data": {
            "text/plain": [
              "Index(['Primary_applicant_age_in_years', 'Gender', 'Marital_status',\n",
              "       'Number_of_dependents', 'Housing', 'Years_at_current_residence',\n",
              "       'Employment_status', 'Has_been_employed_for_at_least', 'Foreign_worker',\n",
              "       'Savings_account_balance', 'Months_loan_taken_for',\n",
              "       'Principal_loan_amount', 'EMI_rate_in_percentage_of_disposable_income',\n",
              "       'Has_coapplicant', 'Has_guarantor',\n",
              "       'Number_of_existing_loans_at_this_bank', 'Loan_history',\n",
              "       'high_risk_applicant', 'male', 'divorced/separated/married',\n",
              "       'married/widowed', 'single', 'own', 'rent',\n",
              "       'skilled employee / official', 'unemployed / unskilled - non-resident',\n",
              "       'unskilled - resident', 'critical/pending loans at other banks',\n",
              "       'delay in paying off loans in the past',\n",
              "       'existing loans paid back duly till now',\n",
              "       'no loans taken/all loans paid back duly'],\n",
              "      dtype='object')"
            ]
          },
          "metadata": {},
          "execution_count": 57
        }
      ]
    },
    {
      "cell_type": "code",
      "source": [
        "# dropping the categorical columns\n",
        "loan_df_combined_clean.drop(loan_df_combined_clean.select_dtypes(include=['object']).columns, axis = 1, inplace=True)"
      ],
      "metadata": {
        "id": "2S9FqewSGEkj"
      },
      "execution_count": 60,
      "outputs": []
    },
    {
      "cell_type": "code",
      "source": [
        "loan_df_combined_clean.info()"
      ],
      "metadata": {
        "colab": {
          "base_uri": "https://localhost:8080/"
        },
        "id": "eo_oUFc7HH_j",
        "outputId": "67cd3d0b-703e-4cc3-fcdc-35d28eb4b43f"
      },
      "execution_count": 61,
      "outputs": [
        {
          "output_type": "stream",
          "name": "stdout",
          "text": [
            "<class 'pandas.core.frame.DataFrame'>\n",
            "Int64Index: 1000 entries, 0 to 999\n",
            "Data columns (total 26 columns):\n",
            " #   Column                                       Non-Null Count  Dtype\n",
            "---  ------                                       --------------  -----\n",
            " 0   Primary_applicant_age_in_years               1000 non-null   int64\n",
            " 1   Number_of_dependents                         1000 non-null   int64\n",
            " 2   Years_at_current_residence                   1000 non-null   int64\n",
            " 3   Has_been_employed_for_at_least               1000 non-null   int64\n",
            " 4   Foreign_worker                               1000 non-null   int64\n",
            " 5   Savings_account_balance                      1000 non-null   int64\n",
            " 6   Months_loan_taken_for                        1000 non-null   int64\n",
            " 7   Principal_loan_amount                        1000 non-null   int64\n",
            " 8   EMI_rate_in_percentage_of_disposable_income  1000 non-null   int64\n",
            " 9   Has_coapplicant                              1000 non-null   int64\n",
            " 10  Has_guarantor                                1000 non-null   int64\n",
            " 11  Number_of_existing_loans_at_this_bank        1000 non-null   int64\n",
            " 12  high_risk_applicant                          1000 non-null   int64\n",
            " 13  male                                         1000 non-null   uint8\n",
            " 14  divorced/separated/married                   1000 non-null   uint8\n",
            " 15  married/widowed                              1000 non-null   uint8\n",
            " 16  single                                       1000 non-null   uint8\n",
            " 17  own                                          1000 non-null   uint8\n",
            " 18  rent                                         1000 non-null   uint8\n",
            " 19  skilled employee / official                  1000 non-null   uint8\n",
            " 20  unemployed / unskilled - non-resident        1000 non-null   uint8\n",
            " 21  unskilled - resident                         1000 non-null   uint8\n",
            " 22  critical/pending loans at other banks        1000 non-null   uint8\n",
            " 23  delay in paying off loans in the past        1000 non-null   uint8\n",
            " 24  existing loans paid back duly till now       1000 non-null   uint8\n",
            " 25  no loans taken/all loans paid back duly      1000 non-null   uint8\n",
            "dtypes: int64(13), uint8(13)\n",
            "memory usage: 154.4 KB\n"
          ]
        }
      ]
    },
    {
      "cell_type": "markdown",
      "metadata": {
        "id": "8cYrgxNvrbyL"
      },
      "source": [
        "###4.3 Evaluation of Python Literals or Datetime"
      ]
    },
    {
      "cell_type": "code",
      "source": [
        "# There is no python literals of datetime"
      ],
      "metadata": {
        "id": "kJ9MeDykVyI5"
      },
      "execution_count": null,
      "outputs": []
    },
    {
      "cell_type": "markdown",
      "metadata": {
        "id": "IjJqd5fDsHx3"
      },
      "source": [
        "###4.4 Feature Engineering"
      ]
    },
    {
      "cell_type": "code",
      "source": [
        "# No need of feature engineering found"
      ],
      "metadata": {
        "id": "YlqHM0ZnDJxe"
      },
      "execution_count": null,
      "outputs": []
    },
    {
      "cell_type": "markdown",
      "metadata": {
        "id": "BpdOLUa_fNL8"
      },
      "source": [
        "## **3. Treating Outliers in the Data**\n",
        "\n",
        "While, we are finding out the **general formula** from the experiences, we should identify the true **outliers** or **exceptional or abnormal experiences** and keep them aside."
      ]
    },
    {
      "cell_type": "code",
      "execution_count": 66,
      "metadata": {
        "id": "LjNJe_pi6Wn-"
      },
      "outputs": [],
      "source": [
        "# Lets find the outliers with the help of box plot\n",
        "plt.figure(figsize=(10,10))\n",
        "loan_df_combined_clean.boxplot(column=list(loan_df_combined_clean.describe().columns))\n",
        "plt.show()"
      ]
    },
    {
      "cell_type": "markdown",
      "metadata": {
        "id": "e8K2-gCifJbO"
      },
      "source": [
        "## **4. Final Feature Selection from the Data**\n",
        "\n",
        "Now we need to understand the distribution of the features and the relationship among the features for the decision of transformation, scaling and final selection of features."
      ]
    },
    {
      "cell_type": "markdown",
      "metadata": {
        "id": "NHGDIzV1oxHc"
      },
      "source": [
        "###7.1 Overall Feature Understanding"
      ]
    },
    {
      "cell_type": "code",
      "source": [
        "# Considering the features for building the model\n",
        "loan_df_combined_clean= loan_df_combined_clean[loan_df_combined_clean.columns]"
      ],
      "metadata": {
        "id": "8m3er9IJW8yH"
      },
      "execution_count": 67,
      "outputs": []
    },
    {
      "cell_type": "code",
      "execution_count": 69,
      "metadata": {
        "id": "XRUcchOyNCgE"
      },
      "outputs": [],
      "source": [
        "# Univariate, bivariate and multivariate analysis in a single plot\n",
        "plt.figure(figsize=(7,7))\n",
        "sns.pairplot(data=loan_df_combined_clean, kind='scatter', diag_kind='kde')\n",
        "plt.show()"
      ]
    },
    {
      "cell_type": "markdown",
      "metadata": {
        "id": "QQzP5kSoZ1ij"
      },
      "source": [
        "###7.2 Looking for Normal Distribution of Features"
      ]
    },
    {
      "cell_type": "code",
      "execution_count": 70,
      "metadata": {
        "id": "qPStYALaNHkb",
        "colab": {
          "base_uri": "https://localhost:8080/"
        },
        "outputId": "771ecfdd-d486-4ed0-c67a-0d258b407f93"
      },
      "outputs": [
        {
          "output_type": "stream",
          "name": "stderr",
          "text": [
            "/usr/local/lib/python3.7/dist-packages/pandas/core/arraylike.py:364: RuntimeWarning: divide by zero encountered in log10\n",
            "  result = getattr(ufunc, method)(*inputs, **kwargs)\n"
          ]
        }
      ],
      "source": [
        "# Checking the distribution of dependent variable after log transformation\n",
        "plt.figure(figsize=(10,10))\n",
        "sns.histplot(np.log10(loan_df_combined_clean['high_risk_applicant']), kde=True)\n",
        "plt.show()"
      ]
    },
    {
      "cell_type": "code",
      "execution_count": 71,
      "metadata": {
        "id": "-01JfsDeTMez",
        "colab": {
          "base_uri": "https://localhost:8080/"
        },
        "outputId": "00c2bf86-4057-446b-db12-fa1bdcee5a34"
      },
      "outputs": [
        {
          "output_type": "stream",
          "name": "stderr",
          "text": [
            "/usr/local/lib/python3.7/dist-packages/pandas/core/arraylike.py:364: RuntimeWarning: divide by zero encountered in log10\n",
            "  result = getattr(ufunc, method)(*inputs, **kwargs)\n",
            "/usr/local/lib/python3.7/dist-packages/pandas/core/arraylike.py:364: RuntimeWarning: divide by zero encountered in log10\n",
            "  result = getattr(ufunc, method)(*inputs, **kwargs)\n",
            "/usr/local/lib/python3.7/dist-packages/pandas/core/arraylike.py:364: RuntimeWarning: divide by zero encountered in log10\n",
            "  result = getattr(ufunc, method)(*inputs, **kwargs)\n",
            "/usr/local/lib/python3.7/dist-packages/pandas/core/arraylike.py:364: RuntimeWarning: divide by zero encountered in log10\n",
            "  result = getattr(ufunc, method)(*inputs, **kwargs)\n",
            "/usr/local/lib/python3.7/dist-packages/pandas/core/arraylike.py:364: RuntimeWarning: divide by zero encountered in log10\n",
            "  result = getattr(ufunc, method)(*inputs, **kwargs)\n",
            "/usr/local/lib/python3.7/dist-packages/pandas/core/arraylike.py:364: RuntimeWarning: divide by zero encountered in log10\n",
            "  result = getattr(ufunc, method)(*inputs, **kwargs)\n",
            "/usr/local/lib/python3.7/dist-packages/pandas/core/arraylike.py:364: RuntimeWarning: divide by zero encountered in log10\n",
            "  result = getattr(ufunc, method)(*inputs, **kwargs)\n",
            "/usr/local/lib/python3.7/dist-packages/pandas/core/arraylike.py:364: RuntimeWarning: divide by zero encountered in log10\n",
            "  result = getattr(ufunc, method)(*inputs, **kwargs)\n",
            "/usr/local/lib/python3.7/dist-packages/pandas/core/arraylike.py:364: RuntimeWarning: divide by zero encountered in log10\n",
            "  result = getattr(ufunc, method)(*inputs, **kwargs)\n",
            "/usr/local/lib/python3.7/dist-packages/ipykernel_launcher.py:4: RuntimeWarning: More than 20 figures have been opened. Figures created through the pyplot interface (`matplotlib.pyplot.figure`) are retained until explicitly closed and may consume too much memory. (To control this warning, see the rcParam `figure.max_open_warning`).\n",
            "  after removing the cwd from sys.path.\n",
            "/usr/local/lib/python3.7/dist-packages/pandas/core/arraylike.py:364: RuntimeWarning: divide by zero encountered in log10\n",
            "  result = getattr(ufunc, method)(*inputs, **kwargs)\n",
            "/usr/local/lib/python3.7/dist-packages/ipykernel_launcher.py:4: RuntimeWarning: More than 20 figures have been opened. Figures created through the pyplot interface (`matplotlib.pyplot.figure`) are retained until explicitly closed and may consume too much memory. (To control this warning, see the rcParam `figure.max_open_warning`).\n",
            "  after removing the cwd from sys.path.\n",
            "/usr/local/lib/python3.7/dist-packages/pandas/core/arraylike.py:364: RuntimeWarning: divide by zero encountered in log10\n",
            "  result = getattr(ufunc, method)(*inputs, **kwargs)\n",
            "/usr/local/lib/python3.7/dist-packages/ipykernel_launcher.py:4: RuntimeWarning: More than 20 figures have been opened. Figures created through the pyplot interface (`matplotlib.pyplot.figure`) are retained until explicitly closed and may consume too much memory. (To control this warning, see the rcParam `figure.max_open_warning`).\n",
            "  after removing the cwd from sys.path.\n",
            "/usr/local/lib/python3.7/dist-packages/pandas/core/arraylike.py:364: RuntimeWarning: divide by zero encountered in log10\n",
            "  result = getattr(ufunc, method)(*inputs, **kwargs)\n",
            "/usr/local/lib/python3.7/dist-packages/ipykernel_launcher.py:4: RuntimeWarning: More than 20 figures have been opened. Figures created through the pyplot interface (`matplotlib.pyplot.figure`) are retained until explicitly closed and may consume too much memory. (To control this warning, see the rcParam `figure.max_open_warning`).\n",
            "  after removing the cwd from sys.path.\n",
            "/usr/local/lib/python3.7/dist-packages/pandas/core/arraylike.py:364: RuntimeWarning: divide by zero encountered in log10\n",
            "  result = getattr(ufunc, method)(*inputs, **kwargs)\n",
            "/usr/local/lib/python3.7/dist-packages/ipykernel_launcher.py:4: RuntimeWarning: More than 20 figures have been opened. Figures created through the pyplot interface (`matplotlib.pyplot.figure`) are retained until explicitly closed and may consume too much memory. (To control this warning, see the rcParam `figure.max_open_warning`).\n",
            "  after removing the cwd from sys.path.\n",
            "/usr/local/lib/python3.7/dist-packages/pandas/core/arraylike.py:364: RuntimeWarning: divide by zero encountered in log10\n",
            "  result = getattr(ufunc, method)(*inputs, **kwargs)\n",
            "/usr/local/lib/python3.7/dist-packages/ipykernel_launcher.py:4: RuntimeWarning: More than 20 figures have been opened. Figures created through the pyplot interface (`matplotlib.pyplot.figure`) are retained until explicitly closed and may consume too much memory. (To control this warning, see the rcParam `figure.max_open_warning`).\n",
            "  after removing the cwd from sys.path.\n",
            "/usr/local/lib/python3.7/dist-packages/pandas/core/arraylike.py:364: RuntimeWarning: divide by zero encountered in log10\n",
            "  result = getattr(ufunc, method)(*inputs, **kwargs)\n",
            "/usr/local/lib/python3.7/dist-packages/ipykernel_launcher.py:4: RuntimeWarning: More than 20 figures have been opened. Figures created through the pyplot interface (`matplotlib.pyplot.figure`) are retained until explicitly closed and may consume too much memory. (To control this warning, see the rcParam `figure.max_open_warning`).\n",
            "  after removing the cwd from sys.path.\n",
            "/usr/local/lib/python3.7/dist-packages/pandas/core/arraylike.py:364: RuntimeWarning: divide by zero encountered in log10\n",
            "  result = getattr(ufunc, method)(*inputs, **kwargs)\n",
            "/usr/local/lib/python3.7/dist-packages/ipykernel_launcher.py:4: RuntimeWarning: More than 20 figures have been opened. Figures created through the pyplot interface (`matplotlib.pyplot.figure`) are retained until explicitly closed and may consume too much memory. (To control this warning, see the rcParam `figure.max_open_warning`).\n",
            "  after removing the cwd from sys.path.\n",
            "/usr/local/lib/python3.7/dist-packages/pandas/core/arraylike.py:364: RuntimeWarning: divide by zero encountered in log10\n",
            "  result = getattr(ufunc, method)(*inputs, **kwargs)\n",
            "/usr/local/lib/python3.7/dist-packages/ipykernel_launcher.py:4: RuntimeWarning: More than 20 figures have been opened. Figures created through the pyplot interface (`matplotlib.pyplot.figure`) are retained until explicitly closed and may consume too much memory. (To control this warning, see the rcParam `figure.max_open_warning`).\n",
            "  after removing the cwd from sys.path.\n",
            "/usr/local/lib/python3.7/dist-packages/pandas/core/arraylike.py:364: RuntimeWarning: divide by zero encountered in log10\n",
            "  result = getattr(ufunc, method)(*inputs, **kwargs)\n"
          ]
        }
      ],
      "source": [
        "# Checking distribution of the columns after log transformation\n",
        "for col in loan_df_combined_clean.describe().columns:\n",
        "  if col!='high_risk_applicant':\n",
        "    fig = plt.figure(figsize=(10, 10))\n",
        "    ax = fig.gca()\n",
        "    feature = np.log10(loan_df_combined_clean[col])\n",
        "    sns.histplot(feature, kde=True)\n",
        "    ax.axvline(feature.mean(), color='magenta', linestyle='dashed', linewidth=2)\n",
        "    ax.axvline(feature.median(), color='cyan', linestyle='dashed', linewidth=2)    \n",
        "plt.show()"
      ]
    },
    {
      "cell_type": "markdown",
      "metadata": {
        "id": "ybyNHql5cgPt"
      },
      "source": [
        "###7.3 Looking for Truly Independent Features"
      ]
    },
    {
      "cell_type": "code",
      "source": [
        "# Function for finding the top correlations"
      ],
      "metadata": {
        "id": "FNdl2ehNVKCH"
      },
      "execution_count": null,
      "outputs": []
    },
    {
      "cell_type": "code",
      "source": [
        "def get_redundant_pairs(df):\n",
        "    '''Get diagonal and lower triangular pairs of correlation matrix'''\n",
        "    pairs_to_drop = set()\n",
        "    cols = df.columns\n",
        "    for i in range(0, df.shape[1]):\n",
        "        for j in range(0, i+1):\n",
        "            pairs_to_drop.add((cols[i], cols[j]))\n",
        "    return pairs_to_drop"
      ],
      "metadata": {
        "id": "qMsUi1iwRavQ"
      },
      "execution_count": 72,
      "outputs": []
    },
    {
      "cell_type": "code",
      "source": [
        "def get_top_abs_correlations(df, n=5):\n",
        "    au_corr = df.corr().abs().unstack()\n",
        "    labels_to_drop = get_redundant_pairs(df)\n",
        "    au_corr = au_corr.drop(labels=labels_to_drop).sort_values(ascending=False)\n",
        "    return au_corr[0:n]"
      ],
      "metadata": {
        "id": "RozvcfUFU1XY"
      },
      "execution_count": 73,
      "outputs": []
    },
    {
      "cell_type": "code",
      "source": [
        "get_top_abs_correlations(loan_df_combined_clean, 5)"
      ],
      "metadata": {
        "colab": {
          "base_uri": "https://localhost:8080/"
        },
        "id": "PYC0DrykU5lf",
        "outputId": "9a1b2f93-2e50-4ec0-9002-c201458ca486"
      },
      "execution_count": 74,
      "outputs": [
        {
          "output_type": "execute_result",
          "data": {
            "text/plain": [
              "male                            divorced/separated/married    1.000000\n",
              "Has_been_employed_for_at_least  Savings_account_balance       1.000000\n",
              "male                            single                        0.738036\n",
              "divorced/separated/married      single                        0.738036\n",
              "own                             rent                          0.735968\n",
              "dtype: float64"
            ]
          },
          "metadata": {},
          "execution_count": 74
        }
      ]
    },
    {
      "cell_type": "code",
      "source": [
        "# Dropping columns with high correlation\n",
        "loan_df_combined_clean.drop(['Has_been_employed_for_at_least','divorced/separated/married'], axis = 1, inplace=True)"
      ],
      "metadata": {
        "id": "53gvMAfAKnyX"
      },
      "execution_count": 78,
      "outputs": []
    },
    {
      "cell_type": "code",
      "execution_count": 75,
      "metadata": {
        "id": "K36wHSH4ZpET",
        "colab": {
          "base_uri": "https://localhost:8080/"
        },
        "outputId": "d3ff1935-60fc-406c-d71c-0ea0ee5d8589"
      },
      "outputs": [
        {
          "output_type": "stream",
          "name": "stderr",
          "text": [
            "/usr/local/lib/python3.7/dist-packages/ipykernel_launcher.py:2: RuntimeWarning: More than 20 figures have been opened. Figures created through the pyplot interface (`matplotlib.pyplot.figure`) are retained until explicitly closed and may consume too much memory. (To control this warning, see the rcParam `figure.max_open_warning`).\n",
            "  \n"
          ]
        }
      ],
      "source": [
        "# Checking multicolinearity in correlation plot\n",
        "plt.figure(figsize=(10,10))\n",
        "sns.heatmap(loan_df_combined_clean.corr(), vmin=-1, cmap='PiYG', annot=True)\n",
        "plt.title('Correlation among Variables')\n",
        "plt.show()"
      ]
    },
    {
      "cell_type": "code",
      "execution_count": 76,
      "metadata": {
        "id": "663N6vkCbp24"
      },
      "outputs": [],
      "source": [
        "# Creating function for checking VIF\n",
        "from statsmodels.stats.outliers_influence import variance_inflation_factor\n",
        "def calc_vif(X):\n",
        "\n",
        "    # Calculating VIF\n",
        "    vif = pd.DataFrame()\n",
        "    vif[\"variables\"] = X.columns\n",
        "    vif[\"VIF\"] = [variance_inflation_factor(X.values, i) for i in range(X.shape[1])]\n",
        "\n",
        "    return(vif)"
      ]
    },
    {
      "cell_type": "code",
      "execution_count": 79,
      "metadata": {
        "colab": {
          "base_uri": "https://localhost:8080/",
          "height": 770
        },
        "id": "MwJpHOWWb_Hu",
        "outputId": "5e5d864e-00a1-4276-f8b4-0f46a60fa7a0"
      },
      "outputs": [
        {
          "output_type": "execute_result",
          "data": {
            "text/plain": [
              "                                      variables        VIF\n",
              "0                Primary_applicant_age_in_years  12.848887\n",
              "1                          Number_of_dependents  11.363046\n",
              "2                    Years_at_current_residence   9.105334\n",
              "3                                Foreign_worker  22.208424\n",
              "4                       Savings_account_balance   1.251704\n",
              "5                         Months_loan_taken_for   7.845656\n",
              "6                         Principal_loan_amount   5.199086\n",
              "7   EMI_rate_in_percentage_of_disposable_income   9.773327\n",
              "8                               Has_coapplicant   1.071851\n",
              "9                                 Has_guarantor   1.105328\n",
              "10        Number_of_existing_loans_at_this_bank  10.837800\n",
              "11                                         male  16.626609\n",
              "12                              married/widowed   2.969885\n",
              "13                                       single  12.504108\n",
              "14                                          own   7.651882\n",
              "15                                         rent   2.770434\n",
              "16                  skilled employee / official   5.696771\n",
              "17        unemployed / unskilled - non-resident   1.185475\n",
              "18                         unskilled - resident   2.655039\n",
              "19        critical/pending loans at other banks   7.083984\n",
              "20        delay in paying off loans in the past   2.771102\n",
              "21       existing loans paid back duly till now   9.908943\n",
              "22      no loans taken/all loans paid back duly   1.836587"
            ],
            "text/html": [
              "\n",
              "  <div id=\"df-b53a05e3-dfb7-496b-9152-5cdacdea5292\">\n",
              "    <div class=\"colab-df-container\">\n",
              "      <div>\n",
              "<style scoped>\n",
              "    .dataframe tbody tr th:only-of-type {\n",
              "        vertical-align: middle;\n",
              "    }\n",
              "\n",
              "    .dataframe tbody tr th {\n",
              "        vertical-align: top;\n",
              "    }\n",
              "\n",
              "    .dataframe thead th {\n",
              "        text-align: right;\n",
              "    }\n",
              "</style>\n",
              "<table border=\"1\" class=\"dataframe\">\n",
              "  <thead>\n",
              "    <tr style=\"text-align: right;\">\n",
              "      <th></th>\n",
              "      <th>variables</th>\n",
              "      <th>VIF</th>\n",
              "    </tr>\n",
              "  </thead>\n",
              "  <tbody>\n",
              "    <tr>\n",
              "      <th>0</th>\n",
              "      <td>Primary_applicant_age_in_years</td>\n",
              "      <td>12.848887</td>\n",
              "    </tr>\n",
              "    <tr>\n",
              "      <th>1</th>\n",
              "      <td>Number_of_dependents</td>\n",
              "      <td>11.363046</td>\n",
              "    </tr>\n",
              "    <tr>\n",
              "      <th>2</th>\n",
              "      <td>Years_at_current_residence</td>\n",
              "      <td>9.105334</td>\n",
              "    </tr>\n",
              "    <tr>\n",
              "      <th>3</th>\n",
              "      <td>Foreign_worker</td>\n",
              "      <td>22.208424</td>\n",
              "    </tr>\n",
              "    <tr>\n",
              "      <th>4</th>\n",
              "      <td>Savings_account_balance</td>\n",
              "      <td>1.251704</td>\n",
              "    </tr>\n",
              "    <tr>\n",
              "      <th>5</th>\n",
              "      <td>Months_loan_taken_for</td>\n",
              "      <td>7.845656</td>\n",
              "    </tr>\n",
              "    <tr>\n",
              "      <th>6</th>\n",
              "      <td>Principal_loan_amount</td>\n",
              "      <td>5.199086</td>\n",
              "    </tr>\n",
              "    <tr>\n",
              "      <th>7</th>\n",
              "      <td>EMI_rate_in_percentage_of_disposable_income</td>\n",
              "      <td>9.773327</td>\n",
              "    </tr>\n",
              "    <tr>\n",
              "      <th>8</th>\n",
              "      <td>Has_coapplicant</td>\n",
              "      <td>1.071851</td>\n",
              "    </tr>\n",
              "    <tr>\n",
              "      <th>9</th>\n",
              "      <td>Has_guarantor</td>\n",
              "      <td>1.105328</td>\n",
              "    </tr>\n",
              "    <tr>\n",
              "      <th>10</th>\n",
              "      <td>Number_of_existing_loans_at_this_bank</td>\n",
              "      <td>10.837800</td>\n",
              "    </tr>\n",
              "    <tr>\n",
              "      <th>11</th>\n",
              "      <td>male</td>\n",
              "      <td>16.626609</td>\n",
              "    </tr>\n",
              "    <tr>\n",
              "      <th>12</th>\n",
              "      <td>married/widowed</td>\n",
              "      <td>2.969885</td>\n",
              "    </tr>\n",
              "    <tr>\n",
              "      <th>13</th>\n",
              "      <td>single</td>\n",
              "      <td>12.504108</td>\n",
              "    </tr>\n",
              "    <tr>\n",
              "      <th>14</th>\n",
              "      <td>own</td>\n",
              "      <td>7.651882</td>\n",
              "    </tr>\n",
              "    <tr>\n",
              "      <th>15</th>\n",
              "      <td>rent</td>\n",
              "      <td>2.770434</td>\n",
              "    </tr>\n",
              "    <tr>\n",
              "      <th>16</th>\n",
              "      <td>skilled employee / official</td>\n",
              "      <td>5.696771</td>\n",
              "    </tr>\n",
              "    <tr>\n",
              "      <th>17</th>\n",
              "      <td>unemployed / unskilled - non-resident</td>\n",
              "      <td>1.185475</td>\n",
              "    </tr>\n",
              "    <tr>\n",
              "      <th>18</th>\n",
              "      <td>unskilled - resident</td>\n",
              "      <td>2.655039</td>\n",
              "    </tr>\n",
              "    <tr>\n",
              "      <th>19</th>\n",
              "      <td>critical/pending loans at other banks</td>\n",
              "      <td>7.083984</td>\n",
              "    </tr>\n",
              "    <tr>\n",
              "      <th>20</th>\n",
              "      <td>delay in paying off loans in the past</td>\n",
              "      <td>2.771102</td>\n",
              "    </tr>\n",
              "    <tr>\n",
              "      <th>21</th>\n",
              "      <td>existing loans paid back duly till now</td>\n",
              "      <td>9.908943</td>\n",
              "    </tr>\n",
              "    <tr>\n",
              "      <th>22</th>\n",
              "      <td>no loans taken/all loans paid back duly</td>\n",
              "      <td>1.836587</td>\n",
              "    </tr>\n",
              "  </tbody>\n",
              "</table>\n",
              "</div>\n",
              "      <button class=\"colab-df-convert\" onclick=\"convertToInteractive('df-b53a05e3-dfb7-496b-9152-5cdacdea5292')\"\n",
              "              title=\"Convert this dataframe to an interactive table.\"\n",
              "              style=\"display:none;\">\n",
              "        \n",
              "  <svg xmlns=\"http://www.w3.org/2000/svg\" height=\"24px\"viewBox=\"0 0 24 24\"\n",
              "       width=\"24px\">\n",
              "    <path d=\"M0 0h24v24H0V0z\" fill=\"none\"/>\n",
              "    <path d=\"M18.56 5.44l.94 2.06.94-2.06 2.06-.94-2.06-.94-.94-2.06-.94 2.06-2.06.94zm-11 1L8.5 8.5l.94-2.06 2.06-.94-2.06-.94L8.5 2.5l-.94 2.06-2.06.94zm10 10l.94 2.06.94-2.06 2.06-.94-2.06-.94-.94-2.06-.94 2.06-2.06.94z\"/><path d=\"M17.41 7.96l-1.37-1.37c-.4-.4-.92-.59-1.43-.59-.52 0-1.04.2-1.43.59L10.3 9.45l-7.72 7.72c-.78.78-.78 2.05 0 2.83L4 21.41c.39.39.9.59 1.41.59.51 0 1.02-.2 1.41-.59l7.78-7.78 2.81-2.81c.8-.78.8-2.07 0-2.86zM5.41 20L4 18.59l7.72-7.72 1.47 1.35L5.41 20z\"/>\n",
              "  </svg>\n",
              "      </button>\n",
              "      \n",
              "  <style>\n",
              "    .colab-df-container {\n",
              "      display:flex;\n",
              "      flex-wrap:wrap;\n",
              "      gap: 12px;\n",
              "    }\n",
              "\n",
              "    .colab-df-convert {\n",
              "      background-color: #E8F0FE;\n",
              "      border: none;\n",
              "      border-radius: 50%;\n",
              "      cursor: pointer;\n",
              "      display: none;\n",
              "      fill: #1967D2;\n",
              "      height: 32px;\n",
              "      padding: 0 0 0 0;\n",
              "      width: 32px;\n",
              "    }\n",
              "\n",
              "    .colab-df-convert:hover {\n",
              "      background-color: #E2EBFA;\n",
              "      box-shadow: 0px 1px 2px rgba(60, 64, 67, 0.3), 0px 1px 3px 1px rgba(60, 64, 67, 0.15);\n",
              "      fill: #174EA6;\n",
              "    }\n",
              "\n",
              "    [theme=dark] .colab-df-convert {\n",
              "      background-color: #3B4455;\n",
              "      fill: #D2E3FC;\n",
              "    }\n",
              "\n",
              "    [theme=dark] .colab-df-convert:hover {\n",
              "      background-color: #434B5C;\n",
              "      box-shadow: 0px 1px 3px 1px rgba(0, 0, 0, 0.15);\n",
              "      filter: drop-shadow(0px 1px 2px rgba(0, 0, 0, 0.3));\n",
              "      fill: #FFFFFF;\n",
              "    }\n",
              "  </style>\n",
              "\n",
              "      <script>\n",
              "        const buttonEl =\n",
              "          document.querySelector('#df-b53a05e3-dfb7-496b-9152-5cdacdea5292 button.colab-df-convert');\n",
              "        buttonEl.style.display =\n",
              "          google.colab.kernel.accessAllowed ? 'block' : 'none';\n",
              "\n",
              "        async function convertToInteractive(key) {\n",
              "          const element = document.querySelector('#df-b53a05e3-dfb7-496b-9152-5cdacdea5292');\n",
              "          const dataTable =\n",
              "            await google.colab.kernel.invokeFunction('convertToInteractive',\n",
              "                                                     [key], {});\n",
              "          if (!dataTable) return;\n",
              "\n",
              "          const docLinkHtml = 'Like what you see? Visit the ' +\n",
              "            '<a target=\"_blank\" href=https://colab.research.google.com/notebooks/data_table.ipynb>data table notebook</a>'\n",
              "            + ' to learn more about interactive tables.';\n",
              "          element.innerHTML = '';\n",
              "          dataTable['output_type'] = 'display_data';\n",
              "          await google.colab.output.renderOutput(dataTable, element);\n",
              "          const docLink = document.createElement('div');\n",
              "          docLink.innerHTML = docLinkHtml;\n",
              "          element.appendChild(docLink);\n",
              "        }\n",
              "      </script>\n",
              "    </div>\n",
              "  </div>\n",
              "  "
            ]
          },
          "metadata": {},
          "execution_count": 79
        }
      ],
      "source": [
        "calc_vif(loan_df_combined_clean[[i for i in loan_df_combined_clean.describe().columns if i not in ['high_risk_applicant']]])"
      ]
    },
    {
      "cell_type": "code",
      "source": [
        "# Removing the features with VIF above 10\n",
        "loan_df_combined_clean.drop(['single','male','Foreign_worker','Number_of_dependents','Primary_applicant_age_in_years'], axis = 1, inplace=True)"
      ],
      "metadata": {
        "id": "vF9kcx9GL7VQ"
      },
      "execution_count": 80,
      "outputs": []
    },
    {
      "cell_type": "code",
      "source": [
        "calc_vif(loan_df_combined_clean[[i for i in loan_df_combined_clean.describe().columns if i not in ['high_risk_applicant']]])"
      ],
      "metadata": {
        "colab": {
          "base_uri": "https://localhost:8080/",
          "height": 614
        },
        "id": "9aSmB39EMdo-",
        "outputId": "521c1855-1085-4885-d467-e86d361820b3"
      },
      "execution_count": 81,
      "outputs": [
        {
          "output_type": "execute_result",
          "data": {
            "text/plain": [
              "                                      variables        VIF\n",
              "0                    Years_at_current_residence   7.546659\n",
              "1                       Savings_account_balance   1.245045\n",
              "2                         Months_loan_taken_for   7.678885\n",
              "3                         Principal_loan_amount   4.912696\n",
              "4   EMI_rate_in_percentage_of_disposable_income   8.513866\n",
              "5                               Has_coapplicant   1.066757\n",
              "6                                 Has_guarantor   1.095116\n",
              "7         Number_of_existing_loans_at_this_bank  10.070732\n",
              "8                               married/widowed   1.147702\n",
              "9                                           own   7.207085\n",
              "10                                         rent   2.540316\n",
              "11                  skilled employee / official   5.467088\n",
              "12        unemployed / unskilled - non-resident   1.153507\n",
              "13                         unskilled - resident   2.490034\n",
              "14        critical/pending loans at other banks   6.663871\n",
              "15        delay in paying off loans in the past   2.599272\n",
              "16       existing loans paid back duly till now   8.668743\n",
              "17      no loans taken/all loans paid back duly   1.794397"
            ],
            "text/html": [
              "\n",
              "  <div id=\"df-7cab63d3-24a8-41d9-98bd-d9def56235d5\">\n",
              "    <div class=\"colab-df-container\">\n",
              "      <div>\n",
              "<style scoped>\n",
              "    .dataframe tbody tr th:only-of-type {\n",
              "        vertical-align: middle;\n",
              "    }\n",
              "\n",
              "    .dataframe tbody tr th {\n",
              "        vertical-align: top;\n",
              "    }\n",
              "\n",
              "    .dataframe thead th {\n",
              "        text-align: right;\n",
              "    }\n",
              "</style>\n",
              "<table border=\"1\" class=\"dataframe\">\n",
              "  <thead>\n",
              "    <tr style=\"text-align: right;\">\n",
              "      <th></th>\n",
              "      <th>variables</th>\n",
              "      <th>VIF</th>\n",
              "    </tr>\n",
              "  </thead>\n",
              "  <tbody>\n",
              "    <tr>\n",
              "      <th>0</th>\n",
              "      <td>Years_at_current_residence</td>\n",
              "      <td>7.546659</td>\n",
              "    </tr>\n",
              "    <tr>\n",
              "      <th>1</th>\n",
              "      <td>Savings_account_balance</td>\n",
              "      <td>1.245045</td>\n",
              "    </tr>\n",
              "    <tr>\n",
              "      <th>2</th>\n",
              "      <td>Months_loan_taken_for</td>\n",
              "      <td>7.678885</td>\n",
              "    </tr>\n",
              "    <tr>\n",
              "      <th>3</th>\n",
              "      <td>Principal_loan_amount</td>\n",
              "      <td>4.912696</td>\n",
              "    </tr>\n",
              "    <tr>\n",
              "      <th>4</th>\n",
              "      <td>EMI_rate_in_percentage_of_disposable_income</td>\n",
              "      <td>8.513866</td>\n",
              "    </tr>\n",
              "    <tr>\n",
              "      <th>5</th>\n",
              "      <td>Has_coapplicant</td>\n",
              "      <td>1.066757</td>\n",
              "    </tr>\n",
              "    <tr>\n",
              "      <th>6</th>\n",
              "      <td>Has_guarantor</td>\n",
              "      <td>1.095116</td>\n",
              "    </tr>\n",
              "    <tr>\n",
              "      <th>7</th>\n",
              "      <td>Number_of_existing_loans_at_this_bank</td>\n",
              "      <td>10.070732</td>\n",
              "    </tr>\n",
              "    <tr>\n",
              "      <th>8</th>\n",
              "      <td>married/widowed</td>\n",
              "      <td>1.147702</td>\n",
              "    </tr>\n",
              "    <tr>\n",
              "      <th>9</th>\n",
              "      <td>own</td>\n",
              "      <td>7.207085</td>\n",
              "    </tr>\n",
              "    <tr>\n",
              "      <th>10</th>\n",
              "      <td>rent</td>\n",
              "      <td>2.540316</td>\n",
              "    </tr>\n",
              "    <tr>\n",
              "      <th>11</th>\n",
              "      <td>skilled employee / official</td>\n",
              "      <td>5.467088</td>\n",
              "    </tr>\n",
              "    <tr>\n",
              "      <th>12</th>\n",
              "      <td>unemployed / unskilled - non-resident</td>\n",
              "      <td>1.153507</td>\n",
              "    </tr>\n",
              "    <tr>\n",
              "      <th>13</th>\n",
              "      <td>unskilled - resident</td>\n",
              "      <td>2.490034</td>\n",
              "    </tr>\n",
              "    <tr>\n",
              "      <th>14</th>\n",
              "      <td>critical/pending loans at other banks</td>\n",
              "      <td>6.663871</td>\n",
              "    </tr>\n",
              "    <tr>\n",
              "      <th>15</th>\n",
              "      <td>delay in paying off loans in the past</td>\n",
              "      <td>2.599272</td>\n",
              "    </tr>\n",
              "    <tr>\n",
              "      <th>16</th>\n",
              "      <td>existing loans paid back duly till now</td>\n",
              "      <td>8.668743</td>\n",
              "    </tr>\n",
              "    <tr>\n",
              "      <th>17</th>\n",
              "      <td>no loans taken/all loans paid back duly</td>\n",
              "      <td>1.794397</td>\n",
              "    </tr>\n",
              "  </tbody>\n",
              "</table>\n",
              "</div>\n",
              "      <button class=\"colab-df-convert\" onclick=\"convertToInteractive('df-7cab63d3-24a8-41d9-98bd-d9def56235d5')\"\n",
              "              title=\"Convert this dataframe to an interactive table.\"\n",
              "              style=\"display:none;\">\n",
              "        \n",
              "  <svg xmlns=\"http://www.w3.org/2000/svg\" height=\"24px\"viewBox=\"0 0 24 24\"\n",
              "       width=\"24px\">\n",
              "    <path d=\"M0 0h24v24H0V0z\" fill=\"none\"/>\n",
              "    <path d=\"M18.56 5.44l.94 2.06.94-2.06 2.06-.94-2.06-.94-.94-2.06-.94 2.06-2.06.94zm-11 1L8.5 8.5l.94-2.06 2.06-.94-2.06-.94L8.5 2.5l-.94 2.06-2.06.94zm10 10l.94 2.06.94-2.06 2.06-.94-2.06-.94-.94-2.06-.94 2.06-2.06.94z\"/><path d=\"M17.41 7.96l-1.37-1.37c-.4-.4-.92-.59-1.43-.59-.52 0-1.04.2-1.43.59L10.3 9.45l-7.72 7.72c-.78.78-.78 2.05 0 2.83L4 21.41c.39.39.9.59 1.41.59.51 0 1.02-.2 1.41-.59l7.78-7.78 2.81-2.81c.8-.78.8-2.07 0-2.86zM5.41 20L4 18.59l7.72-7.72 1.47 1.35L5.41 20z\"/>\n",
              "  </svg>\n",
              "      </button>\n",
              "      \n",
              "  <style>\n",
              "    .colab-df-container {\n",
              "      display:flex;\n",
              "      flex-wrap:wrap;\n",
              "      gap: 12px;\n",
              "    }\n",
              "\n",
              "    .colab-df-convert {\n",
              "      background-color: #E8F0FE;\n",
              "      border: none;\n",
              "      border-radius: 50%;\n",
              "      cursor: pointer;\n",
              "      display: none;\n",
              "      fill: #1967D2;\n",
              "      height: 32px;\n",
              "      padding: 0 0 0 0;\n",
              "      width: 32px;\n",
              "    }\n",
              "\n",
              "    .colab-df-convert:hover {\n",
              "      background-color: #E2EBFA;\n",
              "      box-shadow: 0px 1px 2px rgba(60, 64, 67, 0.3), 0px 1px 3px 1px rgba(60, 64, 67, 0.15);\n",
              "      fill: #174EA6;\n",
              "    }\n",
              "\n",
              "    [theme=dark] .colab-df-convert {\n",
              "      background-color: #3B4455;\n",
              "      fill: #D2E3FC;\n",
              "    }\n",
              "\n",
              "    [theme=dark] .colab-df-convert:hover {\n",
              "      background-color: #434B5C;\n",
              "      box-shadow: 0px 1px 3px 1px rgba(0, 0, 0, 0.15);\n",
              "      filter: drop-shadow(0px 1px 2px rgba(0, 0, 0, 0.3));\n",
              "      fill: #FFFFFF;\n",
              "    }\n",
              "  </style>\n",
              "\n",
              "      <script>\n",
              "        const buttonEl =\n",
              "          document.querySelector('#df-7cab63d3-24a8-41d9-98bd-d9def56235d5 button.colab-df-convert');\n",
              "        buttonEl.style.display =\n",
              "          google.colab.kernel.accessAllowed ? 'block' : 'none';\n",
              "\n",
              "        async function convertToInteractive(key) {\n",
              "          const element = document.querySelector('#df-7cab63d3-24a8-41d9-98bd-d9def56235d5');\n",
              "          const dataTable =\n",
              "            await google.colab.kernel.invokeFunction('convertToInteractive',\n",
              "                                                     [key], {});\n",
              "          if (!dataTable) return;\n",
              "\n",
              "          const docLinkHtml = 'Like what you see? Visit the ' +\n",
              "            '<a target=\"_blank\" href=https://colab.research.google.com/notebooks/data_table.ipynb>data table notebook</a>'\n",
              "            + ' to learn more about interactive tables.';\n",
              "          element.innerHTML = '';\n",
              "          dataTable['output_type'] = 'display_data';\n",
              "          await google.colab.output.renderOutput(dataTable, element);\n",
              "          const docLink = document.createElement('div');\n",
              "          docLink.innerHTML = docLinkHtml;\n",
              "          element.appendChild(docLink);\n",
              "        }\n",
              "      </script>\n",
              "    </div>\n",
              "  </div>\n",
              "  "
            ]
          },
          "metadata": {},
          "execution_count": 81
        }
      ]
    },
    {
      "cell_type": "markdown",
      "metadata": {
        "id": "buQvXzTAL-zk"
      },
      "source": [
        "## **5. Preparation of Input and Output Data**"
      ]
    },
    {
      "cell_type": "markdown",
      "metadata": {
        "id": "VzUWuRkekij6"
      },
      "source": [
        "###8.1 Normalization"
      ]
    },
    {
      "cell_type": "code",
      "execution_count": 97,
      "metadata": {
        "colab": {
          "base_uri": "https://localhost:8080/"
        },
        "id": "-77YARCeTMq4",
        "outputId": "570afbf7-d07f-469d-a008-1f90ac814d74"
      },
      "outputs": [
        {
          "output_type": "stream",
          "name": "stdout",
          "text": [
            "['rent', 'unemployed / unskilled - non-resident', 'delay in paying off loans in the past', 'Number_of_existing_loans_at_this_bank', 'no loans taken/all loans paid back duly', 'Savings_account_balance', 'unskilled - resident', 'married/widowed', 'own', 'Months_loan_taken_for', 'existing loans paid back duly till now', 'critical/pending loans at other banks', 'skilled employee / official', 'Years_at_current_residence', 'Has_coapplicant', 'Principal_loan_amount', 'EMI_rate_in_percentage_of_disposable_income', 'Has_guarantor']\n"
          ]
        }
      ],
      "source": [
        "# Creating dependent(output) and independent(input) variable\n",
        "dependent_variable='high_risk_applicant'\n",
        "independent_variables=list(set(loan_df_combined_clean.describe().columns)-{dependent_variable})\n",
        "print(independent_variables)"
      ]
    },
    {
      "cell_type": "code",
      "execution_count": 98,
      "metadata": {
        "id": "L5oJS69fMhKk"
      },
      "outputs": [],
      "source": [
        "# Creating input and output dataset without normalization\n",
        "X = loan_df_combined_clean[independent_variables]\n",
        "\n",
        "y = loan_df_combined_clean[dependent_variable]"
      ]
    },
    {
      "cell_type": "code",
      "execution_count": null,
      "metadata": {
        "id": "YV-1tsa2oqEb"
      },
      "outputs": [],
      "source": [
        "# Checking is there any infinite values after normalization\n",
        "# X.describe()"
      ]
    },
    {
      "cell_type": "code",
      "execution_count": null,
      "metadata": {
        "id": "kdIVtfWsoyMb"
      },
      "outputs": [],
      "source": [
        "# y.describe()"
      ]
    },
    {
      "cell_type": "code",
      "execution_count": 86,
      "metadata": {
        "id": "hOYOt_k8lDq7"
      },
      "outputs": [],
      "source": [
        "# # Imputation of nan values with zero\n",
        "# for col in X.columns:\n",
        "#   X[col].replace(np.nan, 0, inplace=True)\n",
        "\n",
        "# y.replace(np.nan, 0, inplace=True)"
      ]
    },
    {
      "cell_type": "code",
      "execution_count": 87,
      "metadata": {
        "id": "T5CDXxW9lG1O"
      },
      "outputs": [],
      "source": [
        "# # Imputation of infinite values with zero\n",
        "# for col in X.columns:\n",
        "#   X[col].replace([np.inf, -np.inf], 0, inplace=True)\n",
        "\n",
        "# y.replace([np.inf, -np.inf], 0, inplace=True)"
      ]
    },
    {
      "cell_type": "code",
      "execution_count": null,
      "metadata": {
        "id": "Pqo0C5PvnSsz"
      },
      "outputs": [],
      "source": [
        "# X.describe()"
      ]
    },
    {
      "cell_type": "code",
      "execution_count": null,
      "metadata": {
        "id": "Kv2IHzGvn8au"
      },
      "outputs": [],
      "source": [
        "# y.describe()"
      ]
    },
    {
      "cell_type": "markdown",
      "metadata": {
        "id": "ljziekSiktOG"
      },
      "source": [
        "###8.2 Train-Test Spliting"
      ]
    },
    {
      "cell_type": "code",
      "source": [
        "y.value_counts()"
      ],
      "metadata": {
        "colab": {
          "base_uri": "https://localhost:8080/"
        },
        "id": "rG0aYVnFQcj2",
        "outputId": "60a01752-01ba-40f1-eea3-912bde95259c"
      },
      "execution_count": 104,
      "outputs": [
        {
          "output_type": "execute_result",
          "data": {
            "text/plain": [
              "0    700\n",
              "1    300\n",
              "Name: high_risk_applicant, dtype: int64"
            ]
          },
          "metadata": {},
          "execution_count": 104
        }
      ]
    },
    {
      "cell_type": "code",
      "source": [
        "# This is a purely imbalanced dataset. Thus need stratified splitting"
      ],
      "metadata": {
        "id": "g0rX8wU6Qp3f"
      },
      "execution_count": null,
      "outputs": []
    },
    {
      "cell_type": "code",
      "execution_count": 105,
      "metadata": {
        "id": "es9xqKX8MkoP"
      },
      "outputs": [],
      "source": [
        "# Splitting of the data into Train and Test\n",
        "X_train, X_test, y_train, y_test = train_test_split(X, y, test_size = 0.2, random_state = 0, stratify=y)"
      ]
    },
    {
      "cell_type": "code",
      "source": [
        "y_train.value_counts()"
      ],
      "metadata": {
        "colab": {
          "base_uri": "https://localhost:8080/"
        },
        "id": "Vv8llPbpSlGO",
        "outputId": "4617e5a9-b9b2-4c81-8607-06e014a39229"
      },
      "execution_count": 106,
      "outputs": [
        {
          "output_type": "execute_result",
          "data": {
            "text/plain": [
              "0    560\n",
              "1    240\n",
              "Name: high_risk_applicant, dtype: int64"
            ]
          },
          "metadata": {},
          "execution_count": 106
        }
      ]
    },
    {
      "cell_type": "code",
      "source": [
        "y_test.value_counts()"
      ],
      "metadata": {
        "colab": {
          "base_uri": "https://localhost:8080/"
        },
        "id": "NTdfWoYoSp2_",
        "outputId": "6630d553-3f98-4ca3-9a42-1288a2c7834e"
      },
      "execution_count": 107,
      "outputs": [
        {
          "output_type": "execute_result",
          "data": {
            "text/plain": [
              "0    140\n",
              "1     60\n",
              "Name: high_risk_applicant, dtype: int64"
            ]
          },
          "metadata": {},
          "execution_count": 107
        }
      ]
    },
    {
      "cell_type": "markdown",
      "metadata": {
        "id": "yvfrckIFkuu4"
      },
      "source": [
        "###8.3 Scaling"
      ]
    },
    {
      "cell_type": "code",
      "execution_count": 108,
      "metadata": {
        "id": "uwxSNS42MoA4"
      },
      "outputs": [],
      "source": [
        "# Standardization of Input Data\n",
        "scaler = StandardScaler()\n",
        "X_train = scaler.fit_transform(X_train)\n",
        "X_test = scaler.transform(X_test)"
      ]
    },
    {
      "cell_type": "code",
      "execution_count": 109,
      "metadata": {
        "colab": {
          "base_uri": "https://localhost:8080/"
        },
        "id": "Ulix3x90gPTu",
        "outputId": "0fe4aa97-9229-4445-a3f1-43ddb973d103"
      },
      "outputs": [
        {
          "output_type": "execute_result",
          "data": {
            "text/plain": [
              "(800, 18)"
            ]
          },
          "metadata": {},
          "execution_count": 109
        }
      ],
      "source": [
        "X_train.shape"
      ]
    },
    {
      "cell_type": "markdown",
      "source": [
        "![Guru.jpg](data:image/jpeg;base64,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)"
      ],
      "metadata": {
        "id": "kcnu0G6a_bXD"
      }
    },
    {
      "cell_type": "markdown",
      "metadata": {
        "id": "fFauWJecL-2q"
      },
      "source": [
        "# **Training and Evaluation of Model-1**"
      ]
    },
    {
      "cell_type": "code",
      "source": [
        "# Model cross validation and hyperparameter tuning\n",
        "model_rf=RandomForestClassifier()\n",
        "parameters = {'n_estimators':[int(x) for x in np.linspace(50,500,num=10)], \n",
        "              'max_depth':[int(x) for x in np.linspace(5,30,num=6)],\n",
        "              'max_features':['auto','sqrt'],\n",
        "              'min_samples_split':[2,5,10,15,100],\n",
        "              'min_samples_leaf':[1,2,5,10]}\n",
        "model_rf_cv = RandomizedSearchCV(model_rf, param_distributions=parameters, scoring='r2', cv=3, random_state=0)\n",
        "model_rf_cv.fit(X_train,y_train)"
      ],
      "metadata": {
        "id": "40Mtk8rG-q1C",
        "colab": {
          "base_uri": "https://localhost:8080/"
        },
        "outputId": "1b698a96-ce47-4615-b8e2-7c04a4a0aa30"
      },
      "execution_count": 112,
      "outputs": [
        {
          "output_type": "execute_result",
          "data": {
            "text/plain": [
              "RandomizedSearchCV(cv=3, estimator=RandomForestClassifier(),\n",
              "                   param_distributions={'max_depth': [5, 10, 15, 20, 25, 30],\n",
              "                                        'max_features': ['auto', 'sqrt'],\n",
              "                                        'min_samples_leaf': [1, 2, 5, 10],\n",
              "                                        'min_samples_split': [2, 5, 10, 15,\n",
              "                                                              100],\n",
              "                                        'n_estimators': [50, 100, 150, 200, 250,\n",
              "                                                         300, 350, 400, 450,\n",
              "                                                         500]},\n",
              "                   random_state=0, scoring='r2')"
            ]
          },
          "metadata": {},
          "execution_count": 112
        }
      ]
    },
    {
      "cell_type": "code",
      "source": [
        "model_rf_cv.best_params_"
      ],
      "metadata": {
        "id": "57t91aTZ-tYW",
        "colab": {
          "base_uri": "https://localhost:8080/"
        },
        "outputId": "e9170a5b-574d-4f23-b292-230bcb950bac"
      },
      "execution_count": 113,
      "outputs": [
        {
          "output_type": "execute_result",
          "data": {
            "text/plain": [
              "{'n_estimators': 200,\n",
              " 'min_samples_split': 15,\n",
              " 'min_samples_leaf': 1,\n",
              " 'max_features': 'sqrt',\n",
              " 'max_depth': 15}"
            ]
          },
          "metadata": {},
          "execution_count": 113
        }
      ]
    },
    {
      "cell_type": "code",
      "source": [
        "model_rf_final = RandomForestClassifier(max_depth= 15, max_features= 'sqrt',\n",
        "                                       min_samples_leaf= 1, min_samples_split= 15,\n",
        "                                       n_estimators= 200)\n",
        "model_rf_final.fit(X_train,y_train)"
      ],
      "metadata": {
        "colab": {
          "base_uri": "https://localhost:8080/"
        },
        "id": "F2Gs4PW7_X2Y",
        "outputId": "716f8bdf-049c-4349-cf87-f4a2dad1e2d0"
      },
      "execution_count": 114,
      "outputs": [
        {
          "output_type": "execute_result",
          "data": {
            "text/plain": [
              "RandomForestClassifier(max_depth=15, max_features='sqrt', min_samples_split=15,\n",
              "                       n_estimators=200)"
            ]
          },
          "metadata": {},
          "execution_count": 114
        }
      ]
    },
    {
      "cell_type": "code",
      "source": [
        "# Checking model performance for train set\n",
        "y_train_preds_rf = model_rf_final.predict(X_train)\n",
        "rf_train_accuracy = round(accuracy_score(y_train, y_train_preds_rf),2)\n",
        "print(\"Accuracy:\",rf_train_accuracy)\n",
        "rf_train_f1=round(f1_score(y_train, y_train_preds_rf, average='macro'),2)\n",
        "print(\"F1:\",rf_train_f1)\n",
        "rf_train_roc=round(roc_auc_score(y_train,y_train_preds_rf),2)\n",
        "print(\"ROC_AUC_Score:\",rf_train_roc)"
      ],
      "metadata": {
        "colab": {
          "base_uri": "https://localhost:8080/"
        },
        "id": "4Hm4lXUWTp97",
        "outputId": "a73afd0a-1eba-423a-bf17-6545aef3d9d6"
      },
      "execution_count": 115,
      "outputs": [
        {
          "output_type": "stream",
          "name": "stdout",
          "text": [
            "Accuracy: 0.84\n",
            "F1: 0.78\n",
            "ROC_AUC_Score: 0.75\n"
          ]
        }
      ]
    },
    {
      "cell_type": "code",
      "source": [
        "# Checking model performance for test set\n",
        "y_test_preds_rf = model_rf_final.predict(X_test)\n",
        "rf_test_accuracy = round(accuracy_score(y_test, y_test_preds_rf),2)\n",
        "print(\"Accuracy:\",rf_test_accuracy)\n",
        "rf_test_f1= round(f1_score(y_test, y_test_preds_rf, average='macro'),2)\n",
        "print(\"F1:\",rf_test_f1)\n",
        "rf_test_roc=round(roc_auc_score(y_test,y_test_preds_rf),2)\n",
        "print(\"ROC_AUC_Score:\",rf_test_roc)"
      ],
      "metadata": {
        "colab": {
          "base_uri": "https://localhost:8080/"
        },
        "id": "lxgtv_vRTxSG",
        "outputId": "d5e25815-57b7-44dd-8737-34c6f619859b"
      },
      "execution_count": 116,
      "outputs": [
        {
          "output_type": "stream",
          "name": "stdout",
          "text": [
            "Accuracy: 0.68\n",
            "F1: 0.55\n",
            "ROC_AUC_Score: 0.56\n"
          ]
        }
      ]
    },
    {
      "cell_type": "markdown",
      "source": [
        "# **Training  and Evaluation of Model-2**"
      ],
      "metadata": {
        "id": "B9VBMZ-IyP0H"
      }
    },
    {
      "cell_type": "code",
      "source": [
        "# Model cross validation and hyperparameter tuning\n",
        "model_knn = KNeighborsClassifier()\n",
        "parameters = {'n_neighbors':[int(x) for x in np.linspace(3,21,num=10)], \n",
        "              'leaf_size':[int(x) for x in np.linspace(10,50,num=5)]}\n",
        "model_knn_cv = RandomizedSearchCV(model_knn, param_distributions=parameters, scoring='r2', cv=3, random_state=0)\n",
        "model_knn_cv.fit(X_train,y_train)"
      ],
      "metadata": {
        "id": "2KD3BKcM8sVF",
        "colab": {
          "base_uri": "https://localhost:8080/"
        },
        "outputId": "95bd5d84-772e-4a1d-aee0-3c4bccec0235"
      },
      "execution_count": 117,
      "outputs": [
        {
          "output_type": "execute_result",
          "data": {
            "text/plain": [
              "RandomizedSearchCV(cv=3, estimator=KNeighborsClassifier(),\n",
              "                   param_distributions={'leaf_size': [10, 20, 30, 40, 50],\n",
              "                                        'n_neighbors': [3, 5, 7, 9, 11, 13, 15,\n",
              "                                                        17, 19, 21]},\n",
              "                   random_state=0, scoring='r2')"
            ]
          },
          "metadata": {},
          "execution_count": 117
        }
      ]
    },
    {
      "cell_type": "code",
      "source": [
        "model_knn_cv.best_params_"
      ],
      "metadata": {
        "id": "cgr_JNKN8wBt",
        "colab": {
          "base_uri": "https://localhost:8080/"
        },
        "outputId": "fbb1df7e-0459-47af-c265-1b136edc880e"
      },
      "execution_count": 118,
      "outputs": [
        {
          "output_type": "execute_result",
          "data": {
            "text/plain": [
              "{'n_neighbors': 11, 'leaf_size': 10}"
            ]
          },
          "metadata": {},
          "execution_count": 118
        }
      ]
    },
    {
      "cell_type": "code",
      "source": [
        "model_knn_final = KNeighborsClassifier(n_neighbors= 11, leaf_size= 10)\n",
        "model_knn_final.fit(X_train,y_train)"
      ],
      "metadata": {
        "colab": {
          "base_uri": "https://localhost:8080/"
        },
        "id": "7sxoDR8t9qna",
        "outputId": "18be0566-5bc5-4722-c46c-1aaa9b1ce8aa"
      },
      "execution_count": 120,
      "outputs": [
        {
          "output_type": "execute_result",
          "data": {
            "text/plain": [
              "KNeighborsClassifier(leaf_size=10, n_neighbors=11)"
            ]
          },
          "metadata": {},
          "execution_count": 120
        }
      ]
    },
    {
      "cell_type": "code",
      "source": [
        "# Checking model performance for train set\n",
        "y_train_preds_knn = model_knn_final.predict(X_train)\n",
        "knn_train_accuracy = round(accuracy_score(y_train, y_train_preds_knn),2)\n",
        "print(\"Accuracy:\",knn_train_accuracy)\n",
        "knn_train_f1= round(f1_score(y_train, y_train_preds_knn, average='macro'),2)\n",
        "print(\"F1:\",knn_train_f1)\n",
        "knn_train_roc=round(roc_auc_score(y_train,y_train_preds_knn),2)\n",
        "print(\"ROC_AUC_Score:\",knn_train_roc)"
      ],
      "metadata": {
        "colab": {
          "base_uri": "https://localhost:8080/"
        },
        "id": "xOzRIHQpUHwt",
        "outputId": "7107e34d-0238-4f95-94d6-166ecacbbaf1"
      },
      "execution_count": 121,
      "outputs": [
        {
          "output_type": "stream",
          "name": "stdout",
          "text": [
            "Accuracy: 0.75\n",
            "F1: 0.63\n",
            "ROC_AUC_Score: 0.62\n"
          ]
        }
      ]
    },
    {
      "cell_type": "code",
      "source": [
        "# Checking model performance for test set\n",
        "y_test_preds_knn = model_knn_final.predict(X_test)\n",
        "knn_test_accuracy = round(accuracy_score(y_test, y_test_preds_knn),2)\n",
        "print(\"Accuracy:\",knn_test_accuracy)\n",
        "knn_test_f1= round(f1_score(y_test, y_test_preds_knn, average='macro'),2) # average shall be 'binary'\n",
        "print(\"F1:\",knn_test_f1)\n",
        "knn_test_roc=round(roc_auc_score(y_test,y_test_preds_knn),2)\n",
        "print(\"ROC_AUC_Score:\",knn_test_roc)"
      ],
      "metadata": {
        "colab": {
          "base_uri": "https://localhost:8080/"
        },
        "id": "KPWlV6pxUK2t",
        "outputId": "7afa44e9-0b1a-441a-aa02-b39ce95b89f4"
      },
      "execution_count": 122,
      "outputs": [
        {
          "output_type": "stream",
          "name": "stdout",
          "text": [
            "Accuracy: 0.71\n",
            "F1: 0.62\n",
            "ROC_AUC_Score: 0.61\n"
          ]
        }
      ]
    },
    {
      "cell_type": "markdown",
      "metadata": {
        "id": "ZDtdj4YZx5Bs"
      },
      "source": [
        "# **Training  and Evaluation of Model-3**"
      ]
    },
    {
      "cell_type": "code",
      "source": [
        "# Model cross validation and hyperparameter tuning\n",
        "model_svc = SVC()\n",
        "parameters = {'gamma':[0.1,0.2,0.3,0.4,0.5,0.6,0.7,0.8,0.9], \n",
        "              'C':[int(x) for x in np.linspace(1,10,num=10)]}\n",
        "model_svc_cv = RandomizedSearchCV(model_svc, param_distributions=parameters, scoring='r2', cv=3, random_state=0)\n",
        "model_svc_cv.fit(X_train, y_train)"
      ],
      "metadata": {
        "id": "hn-W3nmL0KGf",
        "colab": {
          "base_uri": "https://localhost:8080/"
        },
        "outputId": "2248cc4d-0184-44d4-cc9f-7e6f62a9efd6"
      },
      "execution_count": 123,
      "outputs": [
        {
          "output_type": "execute_result",
          "data": {
            "text/plain": [
              "RandomizedSearchCV(cv=3, estimator=SVC(),\n",
              "                   param_distributions={'C': [1, 2, 3, 4, 5, 6, 7, 8, 9, 10],\n",
              "                                        'gamma': [0.1, 0.2, 0.3, 0.4, 0.5, 0.6,\n",
              "                                                  0.7, 0.8, 0.9]},\n",
              "                   random_state=0, scoring='r2')"
            ]
          },
          "metadata": {},
          "execution_count": 123
        }
      ]
    },
    {
      "cell_type": "code",
      "source": [
        "model_svc_cv.best_params_"
      ],
      "metadata": {
        "id": "H9qRfVeb6U_z",
        "colab": {
          "base_uri": "https://localhost:8080/"
        },
        "outputId": "95948dc6-a7e9-461c-fb23-dac6a12d3bd6"
      },
      "execution_count": 124,
      "outputs": [
        {
          "output_type": "execute_result",
          "data": {
            "text/plain": [
              "{'gamma': 0.1, 'C': 6}"
            ]
          },
          "metadata": {},
          "execution_count": 124
        }
      ]
    },
    {
      "cell_type": "code",
      "source": [
        "model_svc_final=SVC(C= 6, gamma= 0.1)\n",
        "model_svc_final.fit(X_train, y_train)"
      ],
      "metadata": {
        "colab": {
          "base_uri": "https://localhost:8080/"
        },
        "id": "a2TTeuqH5RHU",
        "outputId": "2c2ce342-396c-454e-b5df-78f8ae8f6265"
      },
      "execution_count": 125,
      "outputs": [
        {
          "output_type": "execute_result",
          "data": {
            "text/plain": [
              "SVC(C=6, gamma=0.1)"
            ]
          },
          "metadata": {},
          "execution_count": 125
        }
      ]
    },
    {
      "cell_type": "code",
      "source": [
        "# Checking model performance for train set\n",
        "y_train_preds_svc = model_svc_final.predict(X_train)\n",
        "svc_train_accuracy = round(accuracy_score(y_train, y_train_preds_svc),2)\n",
        "print(\"Accuracy:\",svc_train_accuracy)\n",
        "svc_train_f1=round(f1_score(y_train, y_train_preds_svc, average='macro'),2)\n",
        "print(\"F1:\",svc_train_f1)\n",
        "svc_train_roc=round(roc_auc_score(y_train,y_train_preds_svc),2)\n",
        "print(\"ROC_AUC_Score:\",svc_train_roc)"
      ],
      "metadata": {
        "colab": {
          "base_uri": "https://localhost:8080/"
        },
        "id": "O8xIguhWUorP",
        "outputId": "a60642c4-5532-4180-986e-00f485e8393b"
      },
      "execution_count": 126,
      "outputs": [
        {
          "output_type": "stream",
          "name": "stdout",
          "text": [
            "Accuracy: 0.89\n",
            "F1: 0.86\n",
            "ROC_AUC_Score: 0.84\n"
          ]
        }
      ]
    },
    {
      "cell_type": "code",
      "source": [
        "# Checking model performance for test set\n",
        "y_test_preds_svc = model_svc_final.predict(X_test)\n",
        "svc_test_accuracy = round(accuracy_score(y_test, y_test_preds_svc),2)\n",
        "print(\"Accuracy:\",svc_test_accuracy)\n",
        "svc_test_f1= round(f1_score(y_test, y_test_preds_svc, average='macro'),2)\n",
        "print(\"F1:\",svc_test_f1)\n",
        "svc_test_roc=round(roc_auc_score(y_test,y_test_preds_svc),2)\n",
        "print(\"ROC_AUC_Score:\",svc_test_roc)"
      ],
      "metadata": {
        "colab": {
          "base_uri": "https://localhost:8080/"
        },
        "id": "hSUQq0JsUqvH",
        "outputId": "bdb2fc4c-4e92-47f7-9c04-fc3a63a3c75b"
      },
      "execution_count": 127,
      "outputs": [
        {
          "output_type": "stream",
          "name": "stdout",
          "text": [
            "Accuracy: 0.68\n",
            "F1: 0.62\n",
            "ROC_AUC_Score: 0.62\n"
          ]
        }
      ]
    },
    {
      "cell_type": "markdown",
      "metadata": {
        "id": "2PDccmBmx7jY"
      },
      "source": [
        "# **Conclusion**"
      ]
    },
    {
      "cell_type": "code",
      "source": [
        "# Performance Comparison of Models\n",
        "plt.figure(figsize=(10, 10))\n",
        "plt.suptitle(f'RF- Train_Accuracy: {rf_train_accuracy}, Test_Accuracy: {rf_test_accuracy}, Test_F1: {rf_test_f1}\\n\\n KNN- Train_Accuracy: {knn_train_accuracy}, Test_Accuracy: {knn_test_accuracy}, Test_F1: {knn_test_f1}\\n\\n SVC- Train_Accuracy: {svc_train_accuracy}, Test_Accuracy: {svc_test_accuracy}, Test_F1: {svc_test_f1}', fontsize=10)\n",
        "sns.set_style(\"darkgrid\")\n",
        "\n",
        "plt.subplot(3,2, 1)\n",
        "rf_test_cm = confusion_matrix(y_test, y_test_preds_rf)\n",
        "sns.heatmap(rf_test_cm, vmin=0, cmap='PiYG', annot=True)\n",
        "plt.xlabel('Predicted Class (RF)')\n",
        "plt.ylabel('Actual Class')\n",
        "\n",
        "plt.subplot(3,2, 2)\n",
        "fpr, tpr, _ = roc_curve(y_test,  y_test_preds_rf)\n",
        "plt.plot(fpr,tpr,label=\"auc=\"+str(rf_test_roc))\n",
        "plt.legend(loc=4)\n",
        "plt.xlabel('False Positive Rate (RF)')\n",
        "plt.ylabel('True Positive Rate')\n",
        "\n",
        "plt.subplot(3,2, 3)\n",
        "knn_test_cm = confusion_matrix(y_test, y_test_preds_knn)\n",
        "sns.heatmap(knn_test_cm, vmin=0, cmap='PiYG', annot=True)\n",
        "plt.xlabel('Predicted Class (KNN)')\n",
        "plt.ylabel('Actual Class')\n",
        "\n",
        "plt.subplot(3,2, 4)\n",
        "fpr, tpr, _ = roc_curve(y_test,  y_test_preds_knn)\n",
        "plt.plot(fpr,tpr,label=\"auc=\"+str(knn_test_roc))\n",
        "plt.legend(loc=4)\n",
        "plt.xlabel('False Positive Rate (KNN)')\n",
        "plt.ylabel('True Positive Rate')\n",
        "\n",
        "plt.subplot(3,2, 5)\n",
        "svc_test_cm = confusion_matrix(y_test, y_test_preds_svc)\n",
        "sns.heatmap(svc_test_cm, vmin=0, cmap='PiYG', annot=True)\n",
        "plt.xlabel('Predicted Class (SVC)')\n",
        "plt.ylabel('Actual Class')\n",
        "\n",
        "plt.subplot(3,2, 6)\n",
        "fpr, tpr, _ = roc_curve(y_test,  y_test_preds_svc)\n",
        "plt.plot(fpr,tpr,label=\"auc=\"+str(svc_test_roc))\n",
        "plt.legend(loc=4)\n",
        "plt.xlabel('False Positive Rate (SVC)')\n",
        "plt.ylabel('True Positive Rate')\n",
        "\n",
        "plt.show()"
      ],
      "metadata": {
        "id": "oVjwfjRhVEGP"
      },
      "execution_count": 128,
      "outputs": []
    },
    {
      "cell_type": "markdown",
      "metadata": {
        "id": "m23nXx_gyC3S"
      },
      "source": [
        "On the basis of the performance study of our three models, we are selecting **KNN** classifier (*the best warrior*) for predicting Credit Risk, as it has low variation in prediction, good f1_score and good ROC_AUC score among all three models models."
      ]
    }
  ],
  "metadata": {
    "colab": {
      "collapsed_sections": [
        "xWvWiLmjuWOn",
        "8cYrgxNvrbyL",
        "IjJqd5fDsHx3",
        "pl-aiwhysl0B",
        "BpdOLUa_fNL8",
        "e8K2-gCifJbO",
        "NHGDIzV1oxHc",
        "QQzP5kSoZ1ij",
        "ybyNHql5cgPt",
        "buQvXzTAL-zk",
        "fFauWJecL-2q",
        "B9VBMZ-IyP0H",
        "ZDtdj4YZx5Bs"
      ],
      "provenance": [],
      "authorship_tag": "ABX9TyO1ZixrExPWfOOhQtIwdIVf",
      "include_colab_link": true
    },
    "kernelspec": {
      "display_name": "Python 3",
      "name": "python3"
    },
    "language_info": {
      "name": "python"
    }
  },
  "nbformat": 4,
  "nbformat_minor": 0
}